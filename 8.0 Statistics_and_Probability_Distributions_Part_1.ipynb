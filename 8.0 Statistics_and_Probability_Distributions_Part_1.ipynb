{
  "nbformat": 4,
  "nbformat_minor": 0,
  "metadata": {
    "colab": {
      "provenance": []
    },
    "kernelspec": {
      "name": "python3",
      "display_name": "Python 3"
    },
    "language_info": {
      "name": "python"
    },
    "accelerator": "GPU",
    "gpuClass": "standard"
  },
  "cells": [
    {
      "cell_type": "markdown",
      "metadata": {
        "id": "mHv-IVE73A3H"
      },
      "source": [
        "![image.png](data:image/png;base64,iVBORw0KGgoAAAANSUhEUgAABhwAAAARCAMAAAAR+PY7AAAAAXNSR0IArs4c6QAAAARnQU1BAACxjwv8YQUAAAASUExURQAAAOt8MOx9MO1+Mu59Me19MafuwrkAAAAFdFJOUwBAYIC/cfWj+gAAAAlwSFlzAAAXEQAAFxEByibzPwAAAF5JREFUeF7t27ENgDAQBMG3Df23jGS9IbiYbKaJjbbWDQDbqkMcAGjiAEAQBwCCOAAQvjjMCwC22WkAAAAAAAAAgJ+MBQDb6DT4HAB4meAACOIAQBAHAII4ABA6DlUPZaFaVMzkEVsAAAAASUVORK5CYII=)"
      ]
    },
    {
      "cell_type": "markdown",
      "metadata": {
        "id": "KRCthv9r-Byt"
      },
      "source": [
        "\n",
        "<h1><center><font size=10><a name='link6'>Data Science and Business Analytics</a></center></font></h1>\n",
        "\n",
        "\n",
        "<h1><center> Practice Project 8 </center></h1>\n",
        "\n",
        "<h1><center>Statistics and Probabilities for Data Analysis Part 1</center></h1>\n",
        "\n",
        "\n",
        "\n",
        "<h1><center> By </center></h1>\n",
        "\n",
        "\n",
        "\n",
        "<h1><center>Hayford Osumanu </center></h1>\n",
        "\n",
        "\n",
        "\n",
        "<h1><center>February  2023 </center></h1>\n"
      ]
    },
    {
      "cell_type": "markdown",
      "metadata": {
        "id": "dKrGogrbHzHA"
      },
      "source": [
        "![image.png](data:image/png;base64,iVBORw0KGgoAAAANSUhEUgAABhwAAAARCAMAAAAR+PY7AAAAAXNSR0IArs4c6QAAAARnQU1BAACxjwv8YQUAAAASUExURQAAAOt8MOx9MO1+Mu59Me19MafuwrkAAAAFdFJOUwBAYIC/cfWj+gAAAAlwSFlzAAAXEQAAFxEByibzPwAAAF5JREFUeF7t27ENgDAQBMG3Df23jGS9IbiYbKaJjbbWDQDbqkMcAGjiAEAQBwCCOAAQvjjMCwC22WkAAAAAAAAAgJ+MBQDb6DT4HAB4meAACOIAQBAHAII4ABA6DlUPZaFaVMzkEVsAAAAASUVORK5CYII=)"
      ]
    },
    {
      "cell_type": "markdown",
      "source": [
        "<img src=\"https://media1.giphy.com/media/B1xUp52rUnrv1Leakw/giphy.gif?cid=ecf05e474uu1n7n5jvml69duzey3lgtcwowq6txw47ktbfpq&rid=giphy.gif&ct=g.gif\" width=\"750\" height=\"500\" align=\"center\">"
      ],
      "metadata": {
        "id": "aBIm3xsnbhYH"
      }
    },
    {
      "cell_type": "markdown",
      "metadata": {
        "id": "N8pWkXgfOzKP"
      },
      "source": [
        "![image.png](data:image/png;base64,iVBORw0KGgoAAAANSUhEUgAABhwAAAARCAMAAAAR+PY7AAAAAXNSR0IArs4c6QAAAARnQU1BAACxjwv8YQUAAAASUExURQAAAOt8MOx9MO1+Mu59Me19MafuwrkAAAAFdFJOUwBAYIC/cfWj+gAAAAlwSFlzAAAXEQAAFxEByibzPwAAAF5JREFUeF7t27ENgDAQBMG3Df23jGS9IbiYbKaJjbbWDQDbqkMcAGjiAEAQBwCCOAAQvjjMCwC22WkAAAAAAAAAgJ+MBQDb6DT4HAB4meAACOIAQBAHAII4ABA6DlUPZaFaVMzkEVsAAAAASUVORK5CYII=)"
      ]
    },
    {
      "cell_type": "markdown",
      "source": [
        "# Part I: Basic Statistics "
      ],
      "metadata": {
        "id": "aXjoATiSk4e5"
      }
    },
    {
      "cell_type": "code",
      "source": [
        "import statistics\n",
        "from scipy import stats\n",
        "import numpy\n",
        "import numpy as np\n",
        "import pandas as pd"
      ],
      "metadata": {
        "id": "9GZzolyXk4cQ"
      },
      "execution_count": 1,
      "outputs": []
    },
    {
      "cell_type": "markdown",
      "source": [
        "## Data for analysis"
      ],
      "metadata": {
        "id": "e8dUJ2Db8q0z"
      }
    },
    {
      "cell_type": "code",
      "source": [
        "# Assume we have prices for 13 cars($000)\n",
        "price = [990,860,870,880,111,860,103,870,940,780,770,850,860]\n",
        "print(price)"
      ],
      "metadata": {
        "colab": {
          "base_uri": "https://localhost:8080/"
        },
        "id": "kg8P0UKZk4aK",
        "outputId": "c68718a0-ed1a-4102-8720-cbf0b096e61f"
      },
      "execution_count": null,
      "outputs": [
        {
          "output_type": "stream",
          "name": "stdout",
          "text": [
            "[990, 860, 870, 880, 111, 860, 103, 870, 940, 780, 770, 850, 860]\n"
          ]
        }
      ]
    },
    {
      "cell_type": "markdown",
      "metadata": {
        "id": "Oz0HnSYHO3zv"
      },
      "source": [
        "![image.png](data:image/png;base64,iVBORw0KGgoAAAANSUhEUgAABhwAAAARCAMAAAAR+PY7AAAAAXNSR0IArs4c6QAAAARnQU1BAACxjwv8YQUAAAASUExURQAAAOt8MOx9MO1+Mu59Me19MafuwrkAAAAFdFJOUwBAYIC/cfWj+gAAAAlwSFlzAAAXEQAAFxEByibzPwAAAF5JREFUeF7t27ENgDAQBMG3Df23jGS9IbiYbKaJjbbWDQDbqkMcAGjiAEAQBwCCOAAQvjjMCwC22WkAAAAAAAAAgJ+MBQDb6DT4HAB4meAACOIAQBAHAII4ABA6DlUPZaFaVMzkEVsAAAAASUVORK5CYII=)"
      ]
    },
    {
      "cell_type": "markdown",
      "source": [
        "## Maximum"
      ],
      "metadata": {
        "id": "jeCpZXvQyiSs"
      }
    },
    {
      "cell_type": "code",
      "source": [
        "print(\"The maximum price of the cars is about: $\", max(price))"
      ],
      "metadata": {
        "colab": {
          "base_uri": "https://localhost:8080/"
        },
        "id": "Jst2GraqymiX",
        "outputId": "b8c6499a-6b7a-4f46-c26c-b733883abf92"
      },
      "execution_count": null,
      "outputs": [
        {
          "output_type": "stream",
          "name": "stdout",
          "text": [
            "The maximum price of the cars is about: $ 990\n"
          ]
        }
      ]
    },
    {
      "cell_type": "markdown",
      "source": [
        "## Minimum"
      ],
      "metadata": {
        "id": "xs9UfJ1ny0Ww"
      }
    },
    {
      "cell_type": "code",
      "source": [
        "print(\"The minimum price of the cars above is approximately: $\",min(price))"
      ],
      "metadata": {
        "colab": {
          "base_uri": "https://localhost:8080/"
        },
        "id": "teAWWOTRy4R6",
        "outputId": "07c391e3-a49a-4c04-b267-efba28bdde3b"
      },
      "execution_count": null,
      "outputs": [
        {
          "output_type": "stream",
          "name": "stdout",
          "text": [
            "The minimum price of the cars above is approximately: $ 103\n"
          ]
        }
      ]
    },
    {
      "cell_type": "markdown",
      "source": [
        "## Number of observations and Total observations"
      ],
      "metadata": {
        "id": "jgfjNEkhzJjs"
      }
    },
    {
      "cell_type": "code",
      "source": [
        "print(\"The total number of observations is:\", len(price)) \n",
        "print(\" The sum of all the  prices is about:\", sum(price))"
      ],
      "metadata": {
        "colab": {
          "base_uri": "https://localhost:8080/"
        },
        "id": "LLwJUrjNzg-O",
        "outputId": "9fa529e7-77ee-494f-8b48-b1090096435d"
      },
      "execution_count": null,
      "outputs": [
        {
          "output_type": "stream",
          "name": "stdout",
          "text": [
            "The total number of observations is: 13\n",
            " The sum of all the  prices is about: 9744\n"
          ]
        }
      ]
    },
    {
      "cell_type": "markdown",
      "metadata": {
        "id": "Z3DGN-W9PMxy"
      },
      "source": [
        "![image.png](data:image/png;base64,iVBORw0KGgoAAAANSUhEUgAABhwAAAARCAMAAAAR+PY7AAAAAXNSR0IArs4c6QAAAARnQU1BAACxjwv8YQUAAAASUExURQAAAOt8MOx9MO1+Mu59Me19MafuwrkAAAAFdFJOUwBAYIC/cfWj+gAAAAlwSFlzAAAXEQAAFxEByibzPwAAAF5JREFUeF7t27ENgDAQBMG3Df23jGS9IbiYbKaJjbbWDQDbqkMcAGjiAEAQBwCCOAAQvjjMCwC22WkAAAAAAAAAgJ+MBQDb6DT4HAB4meAACOIAQBAHAII4ABA6DlUPZaFaVMzkEVsAAAAASUVORK5CYII=)"
      ]
    },
    {
      "cell_type": "markdown",
      "source": [
        "## Mean"
      ],
      "metadata": {
        "id": "Jqz2PXNxl4AK"
      }
    },
    {
      "cell_type": "code",
      "source": [
        "print(\"The prices of the cars in ($000) are:\",price)"
      ],
      "metadata": {
        "colab": {
          "base_uri": "https://localhost:8080/"
        },
        "id": "lKFvQ3musTqx",
        "outputId": "32b2d7a0-ab53-438a-f6fd-d732b3d9b611"
      },
      "execution_count": null,
      "outputs": [
        {
          "output_type": "stream",
          "name": "stdout",
          "text": [
            "The prices of the cars in ($000) are: [990, 860, 870, 880, 111, 860, 103, 870, 940, 780, 770, 850, 860]\n"
          ]
        }
      ]
    },
    {
      "cell_type": "code",
      "source": [
        "# Method 1\n",
        "Mean_price=sum(price)/len(price)\n",
        "print(\"The mean price of the cars is approximately: $\",round(Mean_price,2))"
      ],
      "metadata": {
        "colab": {
          "base_uri": "https://localhost:8080/"
        },
        "id": "9Npp2xdyl59e",
        "outputId": "7bf22483-44ad-49e3-eb17-df118b4acdf1"
      },
      "execution_count": null,
      "outputs": [
        {
          "output_type": "stream",
          "name": "stdout",
          "text": [
            "The mean price of the cars is approximately: $ 749.54\n"
          ]
        }
      ]
    },
    {
      "cell_type": "code",
      "source": [
        "# Method 2: using numpy\n",
        "Mean_price1=np.mean(price)\n",
        "print(\"The average price of the cars is: $\",round(Mean_price1,2))"
      ],
      "metadata": {
        "colab": {
          "base_uri": "https://localhost:8080/"
        },
        "id": "p-_LrdJlmPu3",
        "outputId": "eabe3a74-3182-4a86-c683-a063f91be897"
      },
      "execution_count": null,
      "outputs": [
        {
          "output_type": "stream",
          "name": "stdout",
          "text": [
            "The average price of the cars is: $ 749.54\n"
          ]
        }
      ]
    },
    {
      "cell_type": "code",
      "source": [
        "# Method 3:function\n",
        "mean_price2=statistics.mean(price)\n",
        "mean_price2\n",
        "print( \"The mean average price of the cars above is: $\",round(mean_price2,2))"
      ],
      "metadata": {
        "colab": {
          "base_uri": "https://localhost:8080/"
        },
        "id": "6m1cqQSqmPjE",
        "outputId": "98e77f1b-1b00-404f-96e6-9e7c73eeada8"
      },
      "execution_count": null,
      "outputs": [
        {
          "output_type": "stream",
          "name": "stdout",
          "text": [
            "The mean average price of the cars above is: $ 749.54\n"
          ]
        }
      ]
    },
    {
      "cell_type": "markdown",
      "metadata": {
        "id": "FEfmKkBNPPan"
      },
      "source": [
        "![image.png](data:image/png;base64,iVBORw0KGgoAAAANSUhEUgAABhwAAAARCAMAAAAR+PY7AAAAAXNSR0IArs4c6QAAAARnQU1BAACxjwv8YQUAAAASUExURQAAAOt8MOx9MO1+Mu59Me19MafuwrkAAAAFdFJOUwBAYIC/cfWj+gAAAAlwSFlzAAAXEQAAFxEByibzPwAAAF5JREFUeF7t27ENgDAQBMG3Df23jGS9IbiYbKaJjbbWDQDbqkMcAGjiAEAQBwCCOAAQvjjMCwC22WkAAAAAAAAAgJ+MBQDb6DT4HAB4meAACOIAQBAHAII4ABA6DlUPZaFaVMzkEVsAAAAASUVORK5CYII=)"
      ]
    },
    {
      "cell_type": "markdown",
      "source": [
        "## Median"
      ],
      "metadata": {
        "id": "Q9pY0cW-mu7j"
      }
    },
    {
      "cell_type": "code",
      "source": [
        "print(\"The prices of the cars in ($000) are:\",price)"
      ],
      "metadata": {
        "colab": {
          "base_uri": "https://localhost:8080/"
        },
        "outputId": "ed06da6d-b112-40dd-a9c5-8c27387aab5d",
        "id": "zb7FDbH1slNM"
      },
      "execution_count": null,
      "outputs": [
        {
          "output_type": "stream",
          "name": "stdout",
          "text": [
            "The prices of the cars in ($000) are: [990, 860, 870, 880, 111, 860, 103, 870, 940, 780, 770, 850, 860]\n"
          ]
        }
      ]
    },
    {
      "cell_type": "code",
      "source": [
        "# Method 1: Other function\n",
        "median_price=statistics.median(price)\n",
        "median_price\n",
        "print(\"About half of the 13 cars have prices approximately: $\", median_price)"
      ],
      "metadata": {
        "colab": {
          "base_uri": "https://localhost:8080/"
        },
        "id": "WAgdbyTZoM4o",
        "outputId": "a5a5c7db-589b-4cba-b86b-35001b302fa2"
      },
      "execution_count": null,
      "outputs": [
        {
          "output_type": "stream",
          "name": "stdout",
          "text": [
            "About half of the 13 cars have prices approximately: $ 860\n"
          ]
        }
      ]
    },
    {
      "cell_type": "code",
      "source": [
        "# method 2: Numpy function\n",
        "median_price1=np.median(price)\n",
        "median_price1\n",
        "print(\"50 percent of the prices of the cars above is about: $\", median_price1)"
      ],
      "metadata": {
        "colab": {
          "base_uri": "https://localhost:8080/"
        },
        "id": "FwBXc0UIoXyf",
        "outputId": "d4228dcc-545c-4544-c54e-6b62b55ea1c6"
      },
      "execution_count": null,
      "outputs": [
        {
          "output_type": "stream",
          "name": "stdout",
          "text": [
            "50 percent of the prices of the cars above is about: $ 860.0\n"
          ]
        }
      ]
    },
    {
      "cell_type": "markdown",
      "metadata": {
        "id": "ZWu0JQpBPQrH"
      },
      "source": [
        "![image.png](data:image/png;base64,iVBORw0KGgoAAAANSUhEUgAABhwAAAARCAMAAAAR+PY7AAAAAXNSR0IArs4c6QAAAARnQU1BAACxjwv8YQUAAAASUExURQAAAOt8MOx9MO1+Mu59Me19MafuwrkAAAAFdFJOUwBAYIC/cfWj+gAAAAlwSFlzAAAXEQAAFxEByibzPwAAAF5JREFUeF7t27ENgDAQBMG3Df23jGS9IbiYbKaJjbbWDQDbqkMcAGjiAEAQBwCCOAAQvjjMCwC22WkAAAAAAAAAgJ+MBQDb6DT4HAB4meAACOIAQBAHAII4ABA6DlUPZaFaVMzkEVsAAAAASUVORK5CYII=)"
      ]
    },
    {
      "cell_type": "markdown",
      "source": [
        "## Mode"
      ],
      "metadata": {
        "id": "WaYwdOLWorcD"
      }
    },
    {
      "cell_type": "code",
      "source": [
        "print(\"The prices of the cars in ($000) are:\",price)"
      ],
      "metadata": {
        "colab": {
          "base_uri": "https://localhost:8080/"
        },
        "outputId": "32b2d7a0-ab53-438a-f6fd-d732b3d9b611",
        "id": "yHzCh4ycsn-u"
      },
      "execution_count": null,
      "outputs": [
        {
          "output_type": "stream",
          "name": "stdout",
          "text": [
            "The prices of the cars in ($000) are: [990, 860, 870, 880, 111, 860, 103, 870, 940, 780, 770, 850, 860]\n"
          ]
        }
      ]
    },
    {
      "cell_type": "code",
      "source": [
        "# Method1\n",
        "modal_price=statistics.mode(price)\n",
        "modal_price\n",
        "print(\"The price of the cars which appears most is: $\",modal_price)"
      ],
      "metadata": {
        "colab": {
          "base_uri": "https://localhost:8080/"
        },
        "id": "KBDL3VXNsneO",
        "outputId": "548c221a-14f5-463f-d366-b7c2b1ee4bf8"
      },
      "execution_count": null,
      "outputs": [
        {
          "output_type": "stream",
          "name": "stdout",
          "text": [
            "The price of the cars which appears most is: 860\n"
          ]
        }
      ]
    },
    {
      "cell_type": "code",
      "source": [
        "# Method2\n",
        "modal_price1=stats.mode(price)\n",
        "modal_price1"
      ],
      "metadata": {
        "colab": {
          "base_uri": "https://localhost:8080/"
        },
        "id": "HFGop8xJsnNG",
        "outputId": "0c08409f-f0f5-4766-d778-eac483aebbf0"
      },
      "execution_count": null,
      "outputs": [
        {
          "output_type": "execute_result",
          "data": {
            "text/plain": [
              "ModeResult(mode=array([860]), count=array([3]))"
            ]
          },
          "metadata": {},
          "execution_count": 41
        }
      ]
    },
    {
      "cell_type": "markdown",
      "metadata": {
        "id": "v5_zLbooPR5W"
      },
      "source": [
        "![image.png](data:image/png;base64,iVBORw0KGgoAAAANSUhEUgAABhwAAAARCAMAAAAR+PY7AAAAAXNSR0IArs4c6QAAAARnQU1BAACxjwv8YQUAAAASUExURQAAAOt8MOx9MO1+Mu59Me19MafuwrkAAAAFdFJOUwBAYIC/cfWj+gAAAAlwSFlzAAAXEQAAFxEByibzPwAAAF5JREFUeF7t27ENgDAQBMG3Df23jGS9IbiYbKaJjbbWDQDbqkMcAGjiAEAQBwCCOAAQvjjMCwC22WkAAAAAAAAAgJ+MBQDb6DT4HAB4meAACOIAQBAHAII4ABA6DlUPZaFaVMzkEVsAAAAASUVORK5CYII=)"
      ]
    },
    {
      "cell_type": "markdown",
      "source": [
        "## Standard Deviation"
      ],
      "metadata": {
        "id": "7u8Rfsj9snKl"
      }
    },
    {
      "cell_type": "code",
      "source": [
        "print(\"The prices of the cars in ($000) are:\",price)"
      ],
      "metadata": {
        "colab": {
          "base_uri": "https://localhost:8080/"
        },
        "outputId": "2ff37379-156b-4baf-d7d4-b8dd86ceca64",
        "id": "6hdUXpsQt8ua"
      },
      "execution_count": null,
      "outputs": [
        {
          "output_type": "stream",
          "name": "stdout",
          "text": [
            "The prices of the cars in ($000) are: [990, 860, 870, 880, 111, 860, 103, 870, 940, 780, 770, 850, 860]\n"
          ]
        }
      ]
    },
    {
      "cell_type": "code",
      "source": [
        "# method 1\n",
        "std_price=statistics.stdev(price)\n",
        "std_price\n",
        "print(\"The standard deviation of the prices is about: $\",round(std_price,2))"
      ],
      "metadata": {
        "colab": {
          "base_uri": "https://localhost:8080/"
        },
        "id": "RbMQOBLat60z",
        "outputId": "ea84dfb5-59d1-41a7-9bb5-401dea7979db"
      },
      "execution_count": null,
      "outputs": [
        {
          "output_type": "stream",
          "name": "stdout",
          "text": [
            "The standard deviation of the is about: $ 290.68\n"
          ]
        }
      ]
    },
    {
      "cell_type": "code",
      "source": [
        "# method 2\n",
        "std_price1=np.std(price)\n",
        "std_price1\n",
        "print(\"The standard deviation is about: $\", round(std_price1))"
      ],
      "metadata": {
        "colab": {
          "base_uri": "https://localhost:8080/"
        },
        "id": "fVCOIrs3t-UO",
        "outputId": "43fed88a-032c-4d47-8148-69a7743038ee"
      },
      "execution_count": null,
      "outputs": [
        {
          "output_type": "stream",
          "name": "stdout",
          "text": [
            "The standard deviation is about: $ 279\n"
          ]
        }
      ]
    },
    {
      "cell_type": "markdown",
      "metadata": {
        "id": "37n13MKJPTIG"
      },
      "source": [
        "![image.png](data:image/png;base64,iVBORw0KGgoAAAANSUhEUgAABhwAAAARCAMAAAAR+PY7AAAAAXNSR0IArs4c6QAAAARnQU1BAACxjwv8YQUAAAASUExURQAAAOt8MOx9MO1+Mu59Me19MafuwrkAAAAFdFJOUwBAYIC/cfWj+gAAAAlwSFlzAAAXEQAAFxEByibzPwAAAF5JREFUeF7t27ENgDAQBMG3Df23jGS9IbiYbKaJjbbWDQDbqkMcAGjiAEAQBwCCOAAQvjjMCwC22WkAAAAAAAAAgJ+MBQDb6DT4HAB4meAACOIAQBAHAII4ABA6DlUPZaFaVMzkEVsAAAAASUVORK5CYII=)"
      ]
    },
    {
      "cell_type": "markdown",
      "source": [
        "## Variavce"
      ],
      "metadata": {
        "id": "gob_Xm2Vt-Qr"
      }
    },
    {
      "cell_type": "code",
      "source": [
        "print(\"The prices of the cars in ($000) are:\",price)"
      ],
      "metadata": {
        "colab": {
          "base_uri": "https://localhost:8080/"
        },
        "outputId": "32b2d7a0-ab53-438a-f6fd-d732b3d9b611",
        "id": "OU19PZ2FwGlN"
      },
      "execution_count": null,
      "outputs": [
        {
          "output_type": "stream",
          "name": "stdout",
          "text": [
            "The prices of the cars in ($000) are: [990, 860, 870, 880, 111, 860, 103, 870, 940, 780, 770, 850, 860]\n"
          ]
        }
      ]
    },
    {
      "cell_type": "code",
      "source": [
        "# method1\n",
        "var_price=statistics.variance(price)\n",
        "var_price\n",
        "print(\"The variance of the prices is about: $\",round(var_price,2))"
      ],
      "metadata": {
        "colab": {
          "base_uri": "https://localhost:8080/"
        },
        "id": "i24qhMIjt-M0",
        "outputId": "445aa095-d590-4dcf-ad21-8906d24f8da3"
      },
      "execution_count": null,
      "outputs": [
        {
          "output_type": "stream",
          "name": "stdout",
          "text": [
            "The variance of the prices is about: $ 84493.94\n"
          ]
        }
      ]
    },
    {
      "cell_type": "code",
      "source": [
        "# method2\n",
        "var_price1=np.var(price)\n",
        "var_price1\n",
        "print(\"The variance of the prices is about: $\", round(var_price1,2))"
      ],
      "metadata": {
        "colab": {
          "base_uri": "https://localhost:8080/"
        },
        "id": "wTj71yWkwH_7",
        "outputId": "fe298518-0628-4e8a-f3cc-3b64c9a03815"
      },
      "execution_count": null,
      "outputs": [
        {
          "output_type": "stream",
          "name": "stdout",
          "text": [
            "The variance of the prices is about: $ 77994.4\n"
          ]
        }
      ]
    },
    {
      "cell_type": "markdown",
      "metadata": {
        "id": "amVSv3l1PUV-"
      },
      "source": [
        "![image.png](data:image/png;base64,iVBORw0KGgoAAAANSUhEUgAABhwAAAARCAMAAAAR+PY7AAAAAXNSR0IArs4c6QAAAARnQU1BAACxjwv8YQUAAAASUExURQAAAOt8MOx9MO1+Mu59Me19MafuwrkAAAAFdFJOUwBAYIC/cfWj+gAAAAlwSFlzAAAXEQAAFxEByibzPwAAAF5JREFUeF7t27ENgDAQBMG3Df23jGS9IbiYbKaJjbbWDQDbqkMcAGjiAEAQBwCCOAAQvjjMCwC22WkAAAAAAAAAgJ+MBQDb6DT4HAB4meAACOIAQBAHAII4ABA6DlUPZaFaVMzkEVsAAAAASUVORK5CYII=)"
      ]
    },
    {
      "cell_type": "markdown",
      "source": [
        "## Percentiles"
      ],
      "metadata": {
        "id": "mF9W_04CwH99"
      }
    },
    {
      "cell_type": "code",
      "source": [
        "print(\"The prices of the cars in ($000) are:\",price)"
      ],
      "metadata": {
        "colab": {
          "base_uri": "https://localhost:8080/"
        },
        "outputId": "bb3c4583-1c92-4e45-b525-5088cb5d3945",
        "id": "uLBUVGpO0bEc"
      },
      "execution_count": null,
      "outputs": [
        {
          "output_type": "stream",
          "name": "stdout",
          "text": [
            "The prices of the cars in ($000) are: [990, 860, 870, 880, 111, 860, 103, 870, 940, 780, 770, 850, 860]\n"
          ]
        }
      ]
    },
    {
      "cell_type": "code",
      "source": [
        "# 50th Percentiles, Median, or Middle Quartile\n",
        "per_50th=np.percentile(price,50)\n",
        "per_50th\n",
        "print(\"The 50th percentile price is about: $\",per_50th)"
      ],
      "metadata": {
        "colab": {
          "base_uri": "https://localhost:8080/"
        },
        "id": "GJOW1zD-wH7D",
        "outputId": "778b0113-5ce0-4190-cb45-544d3e0d21fa"
      },
      "execution_count": null,
      "outputs": [
        {
          "output_type": "stream",
          "name": "stdout",
          "text": [
            "The 50th percentile price is about: $ 860.0\n"
          ]
        }
      ]
    },
    {
      "cell_type": "code",
      "source": [
        "# 25th Percentiles, or First Quartile \n",
        "per_25th=np.percentile(price,25)\n",
        "per_25th\n",
        "print(\"The 25th percentile price is approximately: $\",per_25th)"
      ],
      "metadata": {
        "colab": {
          "base_uri": "https://localhost:8080/"
        },
        "id": "8BqSgK6St-Ig",
        "outputId": "19ff8d85-f67d-4eb2-b43e-55a2e6e4cc57"
      },
      "execution_count": null,
      "outputs": [
        {
          "output_type": "stream",
          "name": "stdout",
          "text": [
            "The 25th percentile price is approximately: $ 780.0\n"
          ]
        }
      ]
    },
    {
      "cell_type": "code",
      "source": [
        "# 75th Percentiles or about quartile\n",
        "per_75th=np.percentile(price,75)\n",
        "per_75th\n",
        "print(\"The 75th percentile price of the cars is about: $\", per_75th)"
      ],
      "metadata": {
        "colab": {
          "base_uri": "https://localhost:8080/"
        },
        "id": "XFg2EuoNxDgL",
        "outputId": "ea228139-dc28-46fe-90b3-8cd139713d9e"
      },
      "execution_count": null,
      "outputs": [
        {
          "output_type": "stream",
          "name": "stdout",
          "text": [
            "The 75th percentile price of the cars is about: $ 870.0\n"
          ]
        }
      ]
    },
    {
      "cell_type": "code",
      "source": [
        "# 90th Percentiles \n",
        "per_90th=np.percentile(price,90)\n",
        "per_90th\n",
        "print(\"The 90th percentile price of the cars is about: $\", per_90th)"
      ],
      "metadata": {
        "colab": {
          "base_uri": "https://localhost:8080/"
        },
        "outputId": "d4b0b637-47aa-42df-b8f2-0785b3b1591e",
        "id": "3exRLfzu2E63"
      },
      "execution_count": null,
      "outputs": [
        {
          "output_type": "stream",
          "name": "stdout",
          "text": [
            "The 90th percentile price of the cars is about: $ 928.0\n"
          ]
        }
      ]
    },
    {
      "cell_type": "code",
      "source": [
        "# 99th Percentiles \n",
        "per_99th=np.percentile(price,99)\n",
        "per_75th\n",
        "print(\"The 99th percentile price of the cars is about: $\", per_99th)"
      ],
      "metadata": {
        "colab": {
          "base_uri": "https://localhost:8080/"
        },
        "outputId": "10f86f27-3a69-478c-e603-2621be77fbe8",
        "id": "-kQgYbb42D9w"
      },
      "execution_count": null,
      "outputs": [
        {
          "output_type": "stream",
          "name": "stdout",
          "text": [
            "The 99th percentile price of the cars is about: $ 984.0\n"
          ]
        }
      ]
    },
    {
      "cell_type": "markdown",
      "metadata": {
        "id": "c3RaQv9LPWJ3"
      },
      "source": [
        "![image.png](data:image/png;base64,iVBORw0KGgoAAAANSUhEUgAABhwAAAARCAMAAAAR+PY7AAAAAXNSR0IArs4c6QAAAARnQU1BAACxjwv8YQUAAAASUExURQAAAOt8MOx9MO1+Mu59Me19MafuwrkAAAAFdFJOUwBAYIC/cfWj+gAAAAlwSFlzAAAXEQAAFxEByibzPwAAAF5JREFUeF7t27ENgDAQBMG3Df23jGS9IbiYbKaJjbbWDQDbqkMcAGjiAEAQBwCCOAAQvjjMCwC22WkAAAAAAAAAgJ+MBQDb6DT4HAB4meAACOIAQBAHAII4ABA6DlUPZaFaVMzkEVsAAAAASUVORK5CYII=)"
      ]
    },
    {
      "cell_type": "markdown",
      "source": [
        "# Summary "
      ],
      "metadata": {
        "id": "68x-ZN8WxDHL"
      }
    },
    {
      "cell_type": "code",
      "source": [
        "print(\"The prices of the cars in ($000) are:\",price)"
      ],
      "metadata": {
        "colab": {
          "base_uri": "https://localhost:8080/"
        },
        "outputId": "32b2d7a0-ab53-438a-f6fd-d732b3d9b611",
        "id": "9hATgOJzxI_r"
      },
      "execution_count": null,
      "outputs": [
        {
          "output_type": "stream",
          "name": "stdout",
          "text": [
            "The prices of the cars in ($000) are: [990, 860, 870, 880, 111, 860, 103, 870, 940, 780, 770, 850, 860]\n"
          ]
        }
      ]
    },
    {
      "cell_type": "code",
      "source": [
        "d={\"price\":[990, 860, 870, 880, 111, 860, 103, 870, 940, 780, 770, 850, 860]}\n",
        "prices=pd.DataFrame(price)"
      ],
      "metadata": {
        "id": "pdwxUZb9xDDq"
      },
      "execution_count": null,
      "outputs": []
    },
    {
      "cell_type": "code",
      "source": [
        "print(\"The summary statistics are shown below:\")\n",
        "prices.describe().T"
      ],
      "metadata": {
        "colab": {
          "base_uri": "https://localhost:8080/",
          "height": 99
        },
        "id": "ZrJmYWXexDBP",
        "outputId": "cc8393cf-017a-4308-9930-e2586d198805"
      },
      "execution_count": null,
      "outputs": [
        {
          "output_type": "stream",
          "name": "stdout",
          "text": [
            "The summary statistics are shown below:\n"
          ]
        },
        {
          "output_type": "execute_result",
          "data": {
            "text/plain": [
              "   count        mean         std    min    25%    50%    75%    max\n",
              "0   13.0  749.538462  290.678406  103.0  780.0  860.0  870.0  990.0"
            ],
            "text/html": [
              "\n",
              "  <div id=\"df-3f52c737-ce62-49a2-bc30-cbb4636870b8\">\n",
              "    <div class=\"colab-df-container\">\n",
              "      <div>\n",
              "<style scoped>\n",
              "    .dataframe tbody tr th:only-of-type {\n",
              "        vertical-align: middle;\n",
              "    }\n",
              "\n",
              "    .dataframe tbody tr th {\n",
              "        vertical-align: top;\n",
              "    }\n",
              "\n",
              "    .dataframe thead th {\n",
              "        text-align: right;\n",
              "    }\n",
              "</style>\n",
              "<table border=\"1\" class=\"dataframe\">\n",
              "  <thead>\n",
              "    <tr style=\"text-align: right;\">\n",
              "      <th></th>\n",
              "      <th>count</th>\n",
              "      <th>mean</th>\n",
              "      <th>std</th>\n",
              "      <th>min</th>\n",
              "      <th>25%</th>\n",
              "      <th>50%</th>\n",
              "      <th>75%</th>\n",
              "      <th>max</th>\n",
              "    </tr>\n",
              "  </thead>\n",
              "  <tbody>\n",
              "    <tr>\n",
              "      <th>0</th>\n",
              "      <td>13.0</td>\n",
              "      <td>749.538462</td>\n",
              "      <td>290.678406</td>\n",
              "      <td>103.0</td>\n",
              "      <td>780.0</td>\n",
              "      <td>860.0</td>\n",
              "      <td>870.0</td>\n",
              "      <td>990.0</td>\n",
              "    </tr>\n",
              "  </tbody>\n",
              "</table>\n",
              "</div>\n",
              "      <button class=\"colab-df-convert\" onclick=\"convertToInteractive('df-3f52c737-ce62-49a2-bc30-cbb4636870b8')\"\n",
              "              title=\"Convert this dataframe to an interactive table.\"\n",
              "              style=\"display:none;\">\n",
              "        \n",
              "  <svg xmlns=\"http://www.w3.org/2000/svg\" height=\"24px\"viewBox=\"0 0 24 24\"\n",
              "       width=\"24px\">\n",
              "    <path d=\"M0 0h24v24H0V0z\" fill=\"none\"/>\n",
              "    <path d=\"M18.56 5.44l.94 2.06.94-2.06 2.06-.94-2.06-.94-.94-2.06-.94 2.06-2.06.94zm-11 1L8.5 8.5l.94-2.06 2.06-.94-2.06-.94L8.5 2.5l-.94 2.06-2.06.94zm10 10l.94 2.06.94-2.06 2.06-.94-2.06-.94-.94-2.06-.94 2.06-2.06.94z\"/><path d=\"M17.41 7.96l-1.37-1.37c-.4-.4-.92-.59-1.43-.59-.52 0-1.04.2-1.43.59L10.3 9.45l-7.72 7.72c-.78.78-.78 2.05 0 2.83L4 21.41c.39.39.9.59 1.41.59.51 0 1.02-.2 1.41-.59l7.78-7.78 2.81-2.81c.8-.78.8-2.07 0-2.86zM5.41 20L4 18.59l7.72-7.72 1.47 1.35L5.41 20z\"/>\n",
              "  </svg>\n",
              "      </button>\n",
              "      \n",
              "  <style>\n",
              "    .colab-df-container {\n",
              "      display:flex;\n",
              "      flex-wrap:wrap;\n",
              "      gap: 12px;\n",
              "    }\n",
              "\n",
              "    .colab-df-convert {\n",
              "      background-color: #E8F0FE;\n",
              "      border: none;\n",
              "      border-radius: 50%;\n",
              "      cursor: pointer;\n",
              "      display: none;\n",
              "      fill: #1967D2;\n",
              "      height: 32px;\n",
              "      padding: 0 0 0 0;\n",
              "      width: 32px;\n",
              "    }\n",
              "\n",
              "    .colab-df-convert:hover {\n",
              "      background-color: #E2EBFA;\n",
              "      box-shadow: 0px 1px 2px rgba(60, 64, 67, 0.3), 0px 1px 3px 1px rgba(60, 64, 67, 0.15);\n",
              "      fill: #174EA6;\n",
              "    }\n",
              "\n",
              "    [theme=dark] .colab-df-convert {\n",
              "      background-color: #3B4455;\n",
              "      fill: #D2E3FC;\n",
              "    }\n",
              "\n",
              "    [theme=dark] .colab-df-convert:hover {\n",
              "      background-color: #434B5C;\n",
              "      box-shadow: 0px 1px 3px 1px rgba(0, 0, 0, 0.15);\n",
              "      filter: drop-shadow(0px 1px 2px rgba(0, 0, 0, 0.3));\n",
              "      fill: #FFFFFF;\n",
              "    }\n",
              "  </style>\n",
              "\n",
              "      <script>\n",
              "        const buttonEl =\n",
              "          document.querySelector('#df-3f52c737-ce62-49a2-bc30-cbb4636870b8 button.colab-df-convert');\n",
              "        buttonEl.style.display =\n",
              "          google.colab.kernel.accessAllowed ? 'block' : 'none';\n",
              "\n",
              "        async function convertToInteractive(key) {\n",
              "          const element = document.querySelector('#df-3f52c737-ce62-49a2-bc30-cbb4636870b8');\n",
              "          const dataTable =\n",
              "            await google.colab.kernel.invokeFunction('convertToInteractive',\n",
              "                                                     [key], {});\n",
              "          if (!dataTable) return;\n",
              "\n",
              "          const docLinkHtml = 'Like what you see? Visit the ' +\n",
              "            '<a target=\"_blank\" href=https://colab.research.google.com/notebooks/data_table.ipynb>data table notebook</a>'\n",
              "            + ' to learn more about interactive tables.';\n",
              "          element.innerHTML = '';\n",
              "          dataTable['output_type'] = 'display_data';\n",
              "          await google.colab.output.renderOutput(dataTable, element);\n",
              "          const docLink = document.createElement('div');\n",
              "          docLink.innerHTML = docLinkHtml;\n",
              "          element.appendChild(docLink);\n",
              "        }\n",
              "      </script>\n",
              "    </div>\n",
              "  </div>\n",
              "  "
            ]
          },
          "metadata": {},
          "execution_count": 92
        }
      ]
    },
    {
      "cell_type": "markdown",
      "metadata": {
        "id": "59UgZ1mfPb-h"
      },
      "source": [
        "![image.png](data:image/png;base64,iVBORw0KGgoAAAANSUhEUgAABhwAAAARCAMAAAAR+PY7AAAAAXNSR0IArs4c6QAAAARnQU1BAACxjwv8YQUAAAASUExURQAAAOt8MOx9MO1+Mu59Me19MafuwrkAAAAFdFJOUwBAYIC/cfWj+gAAAAlwSFlzAAAXEQAAFxEByibzPwAAAF5JREFUeF7t27ENgDAQBMG3Df23jGS9IbiYbKaJjbbWDQDbqkMcAGjiAEAQBwCCOAAQvjjMCwC22WkAAAAAAAAAgJ+MBQDb6DT4HAB4meAACOIAQBAHAII4ABA6DlUPZaFaVMzkEVsAAAAASUVORK5CYII=)"
      ]
    },
    {
      "cell_type": "markdown",
      "source": [
        "## Applications of Basic Statistics to Real World Data"
      ],
      "metadata": {
        "id": "Jtk-DJQX4ylz"
      }
    },
    {
      "cell_type": "markdown",
      "source": [
        "### The data below show the prices of United Healthcare (UNH) daily stocks prices from 02/26/2022 -02/26/2023"
      ],
      "metadata": {
        "id": "yEMNvL8i5Co1"
      }
    },
    {
      "cell_type": "code",
      "source": [
        "df=pd.read_csv(\"UNH.csv\")\n",
        "df.head(4)"
      ],
      "metadata": {
        "colab": {
          "base_uri": "https://localhost:8080/",
          "height": 175
        },
        "id": "ff6Akoaj8aLb",
        "outputId": "ba8e01d4-29c4-4cda-8220-b0afd1c49e86"
      },
      "execution_count": 10,
      "outputs": [
        {
          "output_type": "execute_result",
          "data": {
            "text/plain": [
              "        Date        Open        High         Low       Close   Adj Close\n",
              "0  2/28/2022  465.850006  477.309998  465.609985  475.869995  469.852692\n",
              "1   3/1/2022  470.890015  476.959991  467.730011  476.250000  470.227905\n",
              "2   3/2/2022  478.190002  487.170013  477.890015  485.380005  479.242493\n",
              "3   3/3/2022  486.000000  491.380005  482.220001  486.589996  480.437195"
            ],
            "text/html": [
              "\n",
              "  <div id=\"df-88254fb3-55ab-4a68-80c2-c2317dd7467f\">\n",
              "    <div class=\"colab-df-container\">\n",
              "      <div>\n",
              "<style scoped>\n",
              "    .dataframe tbody tr th:only-of-type {\n",
              "        vertical-align: middle;\n",
              "    }\n",
              "\n",
              "    .dataframe tbody tr th {\n",
              "        vertical-align: top;\n",
              "    }\n",
              "\n",
              "    .dataframe thead th {\n",
              "        text-align: right;\n",
              "    }\n",
              "</style>\n",
              "<table border=\"1\" class=\"dataframe\">\n",
              "  <thead>\n",
              "    <tr style=\"text-align: right;\">\n",
              "      <th></th>\n",
              "      <th>Date</th>\n",
              "      <th>Open</th>\n",
              "      <th>High</th>\n",
              "      <th>Low</th>\n",
              "      <th>Close</th>\n",
              "      <th>Adj Close</th>\n",
              "    </tr>\n",
              "  </thead>\n",
              "  <tbody>\n",
              "    <tr>\n",
              "      <th>0</th>\n",
              "      <td>2/28/2022</td>\n",
              "      <td>465.850006</td>\n",
              "      <td>477.309998</td>\n",
              "      <td>465.609985</td>\n",
              "      <td>475.869995</td>\n",
              "      <td>469.852692</td>\n",
              "    </tr>\n",
              "    <tr>\n",
              "      <th>1</th>\n",
              "      <td>3/1/2022</td>\n",
              "      <td>470.890015</td>\n",
              "      <td>476.959991</td>\n",
              "      <td>467.730011</td>\n",
              "      <td>476.250000</td>\n",
              "      <td>470.227905</td>\n",
              "    </tr>\n",
              "    <tr>\n",
              "      <th>2</th>\n",
              "      <td>3/2/2022</td>\n",
              "      <td>478.190002</td>\n",
              "      <td>487.170013</td>\n",
              "      <td>477.890015</td>\n",
              "      <td>485.380005</td>\n",
              "      <td>479.242493</td>\n",
              "    </tr>\n",
              "    <tr>\n",
              "      <th>3</th>\n",
              "      <td>3/3/2022</td>\n",
              "      <td>486.000000</td>\n",
              "      <td>491.380005</td>\n",
              "      <td>482.220001</td>\n",
              "      <td>486.589996</td>\n",
              "      <td>480.437195</td>\n",
              "    </tr>\n",
              "  </tbody>\n",
              "</table>\n",
              "</div>\n",
              "      <button class=\"colab-df-convert\" onclick=\"convertToInteractive('df-88254fb3-55ab-4a68-80c2-c2317dd7467f')\"\n",
              "              title=\"Convert this dataframe to an interactive table.\"\n",
              "              style=\"display:none;\">\n",
              "        \n",
              "  <svg xmlns=\"http://www.w3.org/2000/svg\" height=\"24px\"viewBox=\"0 0 24 24\"\n",
              "       width=\"24px\">\n",
              "    <path d=\"M0 0h24v24H0V0z\" fill=\"none\"/>\n",
              "    <path d=\"M18.56 5.44l.94 2.06.94-2.06 2.06-.94-2.06-.94-.94-2.06-.94 2.06-2.06.94zm-11 1L8.5 8.5l.94-2.06 2.06-.94-2.06-.94L8.5 2.5l-.94 2.06-2.06.94zm10 10l.94 2.06.94-2.06 2.06-.94-2.06-.94-.94-2.06-.94 2.06-2.06.94z\"/><path d=\"M17.41 7.96l-1.37-1.37c-.4-.4-.92-.59-1.43-.59-.52 0-1.04.2-1.43.59L10.3 9.45l-7.72 7.72c-.78.78-.78 2.05 0 2.83L4 21.41c.39.39.9.59 1.41.59.51 0 1.02-.2 1.41-.59l7.78-7.78 2.81-2.81c.8-.78.8-2.07 0-2.86zM5.41 20L4 18.59l7.72-7.72 1.47 1.35L5.41 20z\"/>\n",
              "  </svg>\n",
              "      </button>\n",
              "      \n",
              "  <style>\n",
              "    .colab-df-container {\n",
              "      display:flex;\n",
              "      flex-wrap:wrap;\n",
              "      gap: 12px;\n",
              "    }\n",
              "\n",
              "    .colab-df-convert {\n",
              "      background-color: #E8F0FE;\n",
              "      border: none;\n",
              "      border-radius: 50%;\n",
              "      cursor: pointer;\n",
              "      display: none;\n",
              "      fill: #1967D2;\n",
              "      height: 32px;\n",
              "      padding: 0 0 0 0;\n",
              "      width: 32px;\n",
              "    }\n",
              "\n",
              "    .colab-df-convert:hover {\n",
              "      background-color: #E2EBFA;\n",
              "      box-shadow: 0px 1px 2px rgba(60, 64, 67, 0.3), 0px 1px 3px 1px rgba(60, 64, 67, 0.15);\n",
              "      fill: #174EA6;\n",
              "    }\n",
              "\n",
              "    [theme=dark] .colab-df-convert {\n",
              "      background-color: #3B4455;\n",
              "      fill: #D2E3FC;\n",
              "    }\n",
              "\n",
              "    [theme=dark] .colab-df-convert:hover {\n",
              "      background-color: #434B5C;\n",
              "      box-shadow: 0px 1px 3px 1px rgba(0, 0, 0, 0.15);\n",
              "      filter: drop-shadow(0px 1px 2px rgba(0, 0, 0, 0.3));\n",
              "      fill: #FFFFFF;\n",
              "    }\n",
              "  </style>\n",
              "\n",
              "      <script>\n",
              "        const buttonEl =\n",
              "          document.querySelector('#df-88254fb3-55ab-4a68-80c2-c2317dd7467f button.colab-df-convert');\n",
              "        buttonEl.style.display =\n",
              "          google.colab.kernel.accessAllowed ? 'block' : 'none';\n",
              "\n",
              "        async function convertToInteractive(key) {\n",
              "          const element = document.querySelector('#df-88254fb3-55ab-4a68-80c2-c2317dd7467f');\n",
              "          const dataTable =\n",
              "            await google.colab.kernel.invokeFunction('convertToInteractive',\n",
              "                                                     [key], {});\n",
              "          if (!dataTable) return;\n",
              "\n",
              "          const docLinkHtml = 'Like what you see? Visit the ' +\n",
              "            '<a target=\"_blank\" href=https://colab.research.google.com/notebooks/data_table.ipynb>data table notebook</a>'\n",
              "            + ' to learn more about interactive tables.';\n",
              "          element.innerHTML = '';\n",
              "          dataTable['output_type'] = 'display_data';\n",
              "          await google.colab.output.renderOutput(dataTable, element);\n",
              "          const docLink = document.createElement('div');\n",
              "          docLink.innerHTML = docLinkHtml;\n",
              "          element.appendChild(docLink);\n",
              "        }\n",
              "      </script>\n",
              "    </div>\n",
              "  </div>\n",
              "  "
            ]
          },
          "metadata": {},
          "execution_count": 10
        }
      ]
    },
    {
      "cell_type": "code",
      "source": [
        "# The total number of rows and columns\n",
        "print( \"There are:\",df.shape[0], \"rows and\",df.shape[1],\"columns\")"
      ],
      "metadata": {
        "colab": {
          "base_uri": "https://localhost:8080/"
        },
        "id": "pgosuUig8_3v",
        "outputId": "62c040d4-0cec-4b3f-9c51-ca65bc7ecf78"
      },
      "execution_count": 11,
      "outputs": [
        {
          "output_type": "stream",
          "name": "stdout",
          "text": [
            "There are: 250 rows and 6 columns\n"
          ]
        }
      ]
    },
    {
      "cell_type": "markdown",
      "metadata": {
        "id": "zzIr_GMCPft-"
      },
      "source": [
        "![image.png](data:image/png;base64,iVBORw0KGgoAAAANSUhEUgAABhwAAAARCAMAAAAR+PY7AAAAAXNSR0IArs4c6QAAAARnQU1BAACxjwv8YQUAAAASUExURQAAAOt8MOx9MO1+Mu59Me19MafuwrkAAAAFdFJOUwBAYIC/cfWj+gAAAAlwSFlzAAAXEQAAFxEByibzPwAAAF5JREFUeF7t27ENgDAQBMG3Df23jGS9IbiYbKaJjbbWDQDbqkMcAGjiAEAQBwCCOAAQvjjMCwC22WkAAAAAAAAAgJ+MBQDb6DT4HAB4meAACOIAQBAHAII4ABA6DlUPZaFaVMzkEVsAAAAASUVORK5CYII=)"
      ]
    },
    {
      "cell_type": "markdown",
      "source": [
        "#### We want to find the Summary statistics of the Open, High, Low and Close, Adj Close stock prices for UNH "
      ],
      "metadata": {
        "id": "IjL4B3S99nvL"
      }
    },
    {
      "cell_type": "code",
      "source": [
        "print(\"The summary statitics are shown below:\")\n",
        "df.describe().T"
      ],
      "metadata": {
        "colab": {
          "base_uri": "https://localhost:8080/",
          "height": 224
        },
        "id": "b5bJJs8b99dB",
        "outputId": "f8c2c1a6-cf4e-4dd6-9c6f-f0e8bc0aed37"
      },
      "execution_count": 12,
      "outputs": [
        {
          "output_type": "stream",
          "name": "stdout",
          "text": [
            "The summary statitics are as follow:\n"
          ]
        },
        {
          "output_type": "execute_result",
          "data": {
            "text/plain": [
              "           count        mean        std         min         25%         50%  \\\n",
              "Open       250.0  512.873719  22.846554  450.750000  493.389999  514.815002   \n",
              "High       250.0  518.488760  21.830574  457.809998  499.787506  520.400024   \n",
              "Low        250.0  506.917920  22.949515  436.510010  487.932503  509.660004   \n",
              "Close      250.0  512.797760  22.111725  452.059998  493.432495  513.950012   \n",
              "Adj Close  250.0  510.131460  22.354963  449.261078  492.286186  512.065552   \n",
              "\n",
              "                  75%         max  \n",
              "Open       532.419983  555.000000  \n",
              "High       536.357528  558.099976  \n",
              "Low        527.394989  550.130005  \n",
              "Close      531.710007  555.150024  \n",
              "Adj Close  529.603226  553.443970  "
            ],
            "text/html": [
              "\n",
              "  <div id=\"df-940e7cd0-eedf-45f8-b60f-2d65a49bee80\">\n",
              "    <div class=\"colab-df-container\">\n",
              "      <div>\n",
              "<style scoped>\n",
              "    .dataframe tbody tr th:only-of-type {\n",
              "        vertical-align: middle;\n",
              "    }\n",
              "\n",
              "    .dataframe tbody tr th {\n",
              "        vertical-align: top;\n",
              "    }\n",
              "\n",
              "    .dataframe thead th {\n",
              "        text-align: right;\n",
              "    }\n",
              "</style>\n",
              "<table border=\"1\" class=\"dataframe\">\n",
              "  <thead>\n",
              "    <tr style=\"text-align: right;\">\n",
              "      <th></th>\n",
              "      <th>count</th>\n",
              "      <th>mean</th>\n",
              "      <th>std</th>\n",
              "      <th>min</th>\n",
              "      <th>25%</th>\n",
              "      <th>50%</th>\n",
              "      <th>75%</th>\n",
              "      <th>max</th>\n",
              "    </tr>\n",
              "  </thead>\n",
              "  <tbody>\n",
              "    <tr>\n",
              "      <th>Open</th>\n",
              "      <td>250.0</td>\n",
              "      <td>512.873719</td>\n",
              "      <td>22.846554</td>\n",
              "      <td>450.750000</td>\n",
              "      <td>493.389999</td>\n",
              "      <td>514.815002</td>\n",
              "      <td>532.419983</td>\n",
              "      <td>555.000000</td>\n",
              "    </tr>\n",
              "    <tr>\n",
              "      <th>High</th>\n",
              "      <td>250.0</td>\n",
              "      <td>518.488760</td>\n",
              "      <td>21.830574</td>\n",
              "      <td>457.809998</td>\n",
              "      <td>499.787506</td>\n",
              "      <td>520.400024</td>\n",
              "      <td>536.357528</td>\n",
              "      <td>558.099976</td>\n",
              "    </tr>\n",
              "    <tr>\n",
              "      <th>Low</th>\n",
              "      <td>250.0</td>\n",
              "      <td>506.917920</td>\n",
              "      <td>22.949515</td>\n",
              "      <td>436.510010</td>\n",
              "      <td>487.932503</td>\n",
              "      <td>509.660004</td>\n",
              "      <td>527.394989</td>\n",
              "      <td>550.130005</td>\n",
              "    </tr>\n",
              "    <tr>\n",
              "      <th>Close</th>\n",
              "      <td>250.0</td>\n",
              "      <td>512.797760</td>\n",
              "      <td>22.111725</td>\n",
              "      <td>452.059998</td>\n",
              "      <td>493.432495</td>\n",
              "      <td>513.950012</td>\n",
              "      <td>531.710007</td>\n",
              "      <td>555.150024</td>\n",
              "    </tr>\n",
              "    <tr>\n",
              "      <th>Adj Close</th>\n",
              "      <td>250.0</td>\n",
              "      <td>510.131460</td>\n",
              "      <td>22.354963</td>\n",
              "      <td>449.261078</td>\n",
              "      <td>492.286186</td>\n",
              "      <td>512.065552</td>\n",
              "      <td>529.603226</td>\n",
              "      <td>553.443970</td>\n",
              "    </tr>\n",
              "  </tbody>\n",
              "</table>\n",
              "</div>\n",
              "      <button class=\"colab-df-convert\" onclick=\"convertToInteractive('df-940e7cd0-eedf-45f8-b60f-2d65a49bee80')\"\n",
              "              title=\"Convert this dataframe to an interactive table.\"\n",
              "              style=\"display:none;\">\n",
              "        \n",
              "  <svg xmlns=\"http://www.w3.org/2000/svg\" height=\"24px\"viewBox=\"0 0 24 24\"\n",
              "       width=\"24px\">\n",
              "    <path d=\"M0 0h24v24H0V0z\" fill=\"none\"/>\n",
              "    <path d=\"M18.56 5.44l.94 2.06.94-2.06 2.06-.94-2.06-.94-.94-2.06-.94 2.06-2.06.94zm-11 1L8.5 8.5l.94-2.06 2.06-.94-2.06-.94L8.5 2.5l-.94 2.06-2.06.94zm10 10l.94 2.06.94-2.06 2.06-.94-2.06-.94-.94-2.06-.94 2.06-2.06.94z\"/><path d=\"M17.41 7.96l-1.37-1.37c-.4-.4-.92-.59-1.43-.59-.52 0-1.04.2-1.43.59L10.3 9.45l-7.72 7.72c-.78.78-.78 2.05 0 2.83L4 21.41c.39.39.9.59 1.41.59.51 0 1.02-.2 1.41-.59l7.78-7.78 2.81-2.81c.8-.78.8-2.07 0-2.86zM5.41 20L4 18.59l7.72-7.72 1.47 1.35L5.41 20z\"/>\n",
              "  </svg>\n",
              "      </button>\n",
              "      \n",
              "  <style>\n",
              "    .colab-df-container {\n",
              "      display:flex;\n",
              "      flex-wrap:wrap;\n",
              "      gap: 12px;\n",
              "    }\n",
              "\n",
              "    .colab-df-convert {\n",
              "      background-color: #E8F0FE;\n",
              "      border: none;\n",
              "      border-radius: 50%;\n",
              "      cursor: pointer;\n",
              "      display: none;\n",
              "      fill: #1967D2;\n",
              "      height: 32px;\n",
              "      padding: 0 0 0 0;\n",
              "      width: 32px;\n",
              "    }\n",
              "\n",
              "    .colab-df-convert:hover {\n",
              "      background-color: #E2EBFA;\n",
              "      box-shadow: 0px 1px 2px rgba(60, 64, 67, 0.3), 0px 1px 3px 1px rgba(60, 64, 67, 0.15);\n",
              "      fill: #174EA6;\n",
              "    }\n",
              "\n",
              "    [theme=dark] .colab-df-convert {\n",
              "      background-color: #3B4455;\n",
              "      fill: #D2E3FC;\n",
              "    }\n",
              "\n",
              "    [theme=dark] .colab-df-convert:hover {\n",
              "      background-color: #434B5C;\n",
              "      box-shadow: 0px 1px 3px 1px rgba(0, 0, 0, 0.15);\n",
              "      filter: drop-shadow(0px 1px 2px rgba(0, 0, 0, 0.3));\n",
              "      fill: #FFFFFF;\n",
              "    }\n",
              "  </style>\n",
              "\n",
              "      <script>\n",
              "        const buttonEl =\n",
              "          document.querySelector('#df-940e7cd0-eedf-45f8-b60f-2d65a49bee80 button.colab-df-convert');\n",
              "        buttonEl.style.display =\n",
              "          google.colab.kernel.accessAllowed ? 'block' : 'none';\n",
              "\n",
              "        async function convertToInteractive(key) {\n",
              "          const element = document.querySelector('#df-940e7cd0-eedf-45f8-b60f-2d65a49bee80');\n",
              "          const dataTable =\n",
              "            await google.colab.kernel.invokeFunction('convertToInteractive',\n",
              "                                                     [key], {});\n",
              "          if (!dataTable) return;\n",
              "\n",
              "          const docLinkHtml = 'Like what you see? Visit the ' +\n",
              "            '<a target=\"_blank\" href=https://colab.research.google.com/notebooks/data_table.ipynb>data table notebook</a>'\n",
              "            + ' to learn more about interactive tables.';\n",
              "          element.innerHTML = '';\n",
              "          dataTable['output_type'] = 'display_data';\n",
              "          await google.colab.output.renderOutput(dataTable, element);\n",
              "          const docLink = document.createElement('div');\n",
              "          docLink.innerHTML = docLinkHtml;\n",
              "          element.appendChild(docLink);\n",
              "        }\n",
              "      </script>\n",
              "    </div>\n",
              "  </div>\n",
              "  "
            ]
          },
          "metadata": {},
          "execution_count": 12
        }
      ]
    },
    {
      "cell_type": "code",
      "execution_count": 22,
      "metadata": {
        "colab": {
          "base_uri": "https://localhost:8080/",
          "height": 224
        },
        "id": "gkHKHRQ3N2NA",
        "outputId": "b443ef42-e116-47ed-b261-591b8b5acf59"
      },
      "outputs": [
        {
          "output_type": "stream",
          "name": "stdout",
          "text": [
            "The qunatiles for the dataset are shown below: \n"
          ]
        },
        {
          "output_type": "execute_result",
          "data": {
            "text/plain": [
              "                 0.25        0.50        0.60        0.75        0.90  \\\n",
              "Open       493.389999  514.815002  520.970007  532.419983  541.857978   \n",
              "High       499.787506  520.400024  527.143994  536.357528  547.233020   \n",
              "Low        487.932503  509.660004  515.166028  527.394989  536.065027   \n",
              "Close      493.432495  513.950012  520.972009  531.710007  541.573004   \n",
              "Adj Close  492.286186  512.065552  518.901623  529.603226  539.212012   \n",
              "\n",
              "                 0.95        0.99  \n",
              "Open       545.382995  553.084207  \n",
              "High       549.272498  554.706887  \n",
              "Low        539.701508  544.004399  \n",
              "Close      545.011011  549.809198  \n",
              "Adj Close  541.896600  548.749231  "
            ],
            "text/html": [
              "\n",
              "  <div id=\"df-2c69c560-ab84-437f-82f4-97b6650b877b\">\n",
              "    <div class=\"colab-df-container\">\n",
              "      <div>\n",
              "<style scoped>\n",
              "    .dataframe tbody tr th:only-of-type {\n",
              "        vertical-align: middle;\n",
              "    }\n",
              "\n",
              "    .dataframe tbody tr th {\n",
              "        vertical-align: top;\n",
              "    }\n",
              "\n",
              "    .dataframe thead th {\n",
              "        text-align: right;\n",
              "    }\n",
              "</style>\n",
              "<table border=\"1\" class=\"dataframe\">\n",
              "  <thead>\n",
              "    <tr style=\"text-align: right;\">\n",
              "      <th></th>\n",
              "      <th>0.25</th>\n",
              "      <th>0.50</th>\n",
              "      <th>0.60</th>\n",
              "      <th>0.75</th>\n",
              "      <th>0.90</th>\n",
              "      <th>0.95</th>\n",
              "      <th>0.99</th>\n",
              "    </tr>\n",
              "  </thead>\n",
              "  <tbody>\n",
              "    <tr>\n",
              "      <th>Open</th>\n",
              "      <td>493.389999</td>\n",
              "      <td>514.815002</td>\n",
              "      <td>520.970007</td>\n",
              "      <td>532.419983</td>\n",
              "      <td>541.857978</td>\n",
              "      <td>545.382995</td>\n",
              "      <td>553.084207</td>\n",
              "    </tr>\n",
              "    <tr>\n",
              "      <th>High</th>\n",
              "      <td>499.787506</td>\n",
              "      <td>520.400024</td>\n",
              "      <td>527.143994</td>\n",
              "      <td>536.357528</td>\n",
              "      <td>547.233020</td>\n",
              "      <td>549.272498</td>\n",
              "      <td>554.706887</td>\n",
              "    </tr>\n",
              "    <tr>\n",
              "      <th>Low</th>\n",
              "      <td>487.932503</td>\n",
              "      <td>509.660004</td>\n",
              "      <td>515.166028</td>\n",
              "      <td>527.394989</td>\n",
              "      <td>536.065027</td>\n",
              "      <td>539.701508</td>\n",
              "      <td>544.004399</td>\n",
              "    </tr>\n",
              "    <tr>\n",
              "      <th>Close</th>\n",
              "      <td>493.432495</td>\n",
              "      <td>513.950012</td>\n",
              "      <td>520.972009</td>\n",
              "      <td>531.710007</td>\n",
              "      <td>541.573004</td>\n",
              "      <td>545.011011</td>\n",
              "      <td>549.809198</td>\n",
              "    </tr>\n",
              "    <tr>\n",
              "      <th>Adj Close</th>\n",
              "      <td>492.286186</td>\n",
              "      <td>512.065552</td>\n",
              "      <td>518.901623</td>\n",
              "      <td>529.603226</td>\n",
              "      <td>539.212012</td>\n",
              "      <td>541.896600</td>\n",
              "      <td>548.749231</td>\n",
              "    </tr>\n",
              "  </tbody>\n",
              "</table>\n",
              "</div>\n",
              "      <button class=\"colab-df-convert\" onclick=\"convertToInteractive('df-2c69c560-ab84-437f-82f4-97b6650b877b')\"\n",
              "              title=\"Convert this dataframe to an interactive table.\"\n",
              "              style=\"display:none;\">\n",
              "        \n",
              "  <svg xmlns=\"http://www.w3.org/2000/svg\" height=\"24px\"viewBox=\"0 0 24 24\"\n",
              "       width=\"24px\">\n",
              "    <path d=\"M0 0h24v24H0V0z\" fill=\"none\"/>\n",
              "    <path d=\"M18.56 5.44l.94 2.06.94-2.06 2.06-.94-2.06-.94-.94-2.06-.94 2.06-2.06.94zm-11 1L8.5 8.5l.94-2.06 2.06-.94-2.06-.94L8.5 2.5l-.94 2.06-2.06.94zm10 10l.94 2.06.94-2.06 2.06-.94-2.06-.94-.94-2.06-.94 2.06-2.06.94z\"/><path d=\"M17.41 7.96l-1.37-1.37c-.4-.4-.92-.59-1.43-.59-.52 0-1.04.2-1.43.59L10.3 9.45l-7.72 7.72c-.78.78-.78 2.05 0 2.83L4 21.41c.39.39.9.59 1.41.59.51 0 1.02-.2 1.41-.59l7.78-7.78 2.81-2.81c.8-.78.8-2.07 0-2.86zM5.41 20L4 18.59l7.72-7.72 1.47 1.35L5.41 20z\"/>\n",
              "  </svg>\n",
              "      </button>\n",
              "      \n",
              "  <style>\n",
              "    .colab-df-container {\n",
              "      display:flex;\n",
              "      flex-wrap:wrap;\n",
              "      gap: 12px;\n",
              "    }\n",
              "\n",
              "    .colab-df-convert {\n",
              "      background-color: #E8F0FE;\n",
              "      border: none;\n",
              "      border-radius: 50%;\n",
              "      cursor: pointer;\n",
              "      display: none;\n",
              "      fill: #1967D2;\n",
              "      height: 32px;\n",
              "      padding: 0 0 0 0;\n",
              "      width: 32px;\n",
              "    }\n",
              "\n",
              "    .colab-df-convert:hover {\n",
              "      background-color: #E2EBFA;\n",
              "      box-shadow: 0px 1px 2px rgba(60, 64, 67, 0.3), 0px 1px 3px 1px rgba(60, 64, 67, 0.15);\n",
              "      fill: #174EA6;\n",
              "    }\n",
              "\n",
              "    [theme=dark] .colab-df-convert {\n",
              "      background-color: #3B4455;\n",
              "      fill: #D2E3FC;\n",
              "    }\n",
              "\n",
              "    [theme=dark] .colab-df-convert:hover {\n",
              "      background-color: #434B5C;\n",
              "      box-shadow: 0px 1px 3px 1px rgba(0, 0, 0, 0.15);\n",
              "      filter: drop-shadow(0px 1px 2px rgba(0, 0, 0, 0.3));\n",
              "      fill: #FFFFFF;\n",
              "    }\n",
              "  </style>\n",
              "\n",
              "      <script>\n",
              "        const buttonEl =\n",
              "          document.querySelector('#df-2c69c560-ab84-437f-82f4-97b6650b877b button.colab-df-convert');\n",
              "        buttonEl.style.display =\n",
              "          google.colab.kernel.accessAllowed ? 'block' : 'none';\n",
              "\n",
              "        async function convertToInteractive(key) {\n",
              "          const element = document.querySelector('#df-2c69c560-ab84-437f-82f4-97b6650b877b');\n",
              "          const dataTable =\n",
              "            await google.colab.kernel.invokeFunction('convertToInteractive',\n",
              "                                                     [key], {});\n",
              "          if (!dataTable) return;\n",
              "\n",
              "          const docLinkHtml = 'Like what you see? Visit the ' +\n",
              "            '<a target=\"_blank\" href=https://colab.research.google.com/notebooks/data_table.ipynb>data table notebook</a>'\n",
              "            + ' to learn more about interactive tables.';\n",
              "          element.innerHTML = '';\n",
              "          dataTable['output_type'] = 'display_data';\n",
              "          await google.colab.output.renderOutput(dataTable, element);\n",
              "          const docLink = document.createElement('div');\n",
              "          docLink.innerHTML = docLinkHtml;\n",
              "          element.appendChild(docLink);\n",
              "        }\n",
              "      </script>\n",
              "    </div>\n",
              "  </div>\n",
              "  "
            ]
          },
          "metadata": {},
          "execution_count": 22
        }
      ],
      "source": [
        "# Extracting the Quantiles of the dataset\n",
        "print(\"The qunatiles for the dataset are shown below: \")\n",
        "df.quantile([0.25, 0.5, 0.6, 0.75, 0.9, 0.95, 0.99]).T"
      ]
    },
    {
      "cell_type": "code",
      "source": [
        "# Select observations with maximum values in Pandas Dataframe\n",
        "df.max().to_frame()"
      ],
      "metadata": {
        "colab": {
          "base_uri": "https://localhost:8080/",
          "height": 237
        },
        "id": "isNctTr30rRh",
        "outputId": "e9ec5e45-2d19-473f-bbf8-79fd88182b84"
      },
      "execution_count": 13,
      "outputs": [
        {
          "output_type": "execute_result",
          "data": {
            "text/plain": [
              "                    0\n",
              "Date         9/9/2022\n",
              "Open            555.0\n",
              "High       558.099976\n",
              "Low        550.130005\n",
              "Close      555.150024\n",
              "Adj Close   553.44397"
            ],
            "text/html": [
              "\n",
              "  <div id=\"df-31ce7ef7-ed3d-44d6-a02b-3b33f5d706b1\">\n",
              "    <div class=\"colab-df-container\">\n",
              "      <div>\n",
              "<style scoped>\n",
              "    .dataframe tbody tr th:only-of-type {\n",
              "        vertical-align: middle;\n",
              "    }\n",
              "\n",
              "    .dataframe tbody tr th {\n",
              "        vertical-align: top;\n",
              "    }\n",
              "\n",
              "    .dataframe thead th {\n",
              "        text-align: right;\n",
              "    }\n",
              "</style>\n",
              "<table border=\"1\" class=\"dataframe\">\n",
              "  <thead>\n",
              "    <tr style=\"text-align: right;\">\n",
              "      <th></th>\n",
              "      <th>0</th>\n",
              "    </tr>\n",
              "  </thead>\n",
              "  <tbody>\n",
              "    <tr>\n",
              "      <th>Date</th>\n",
              "      <td>9/9/2022</td>\n",
              "    </tr>\n",
              "    <tr>\n",
              "      <th>Open</th>\n",
              "      <td>555.0</td>\n",
              "    </tr>\n",
              "    <tr>\n",
              "      <th>High</th>\n",
              "      <td>558.099976</td>\n",
              "    </tr>\n",
              "    <tr>\n",
              "      <th>Low</th>\n",
              "      <td>550.130005</td>\n",
              "    </tr>\n",
              "    <tr>\n",
              "      <th>Close</th>\n",
              "      <td>555.150024</td>\n",
              "    </tr>\n",
              "    <tr>\n",
              "      <th>Adj Close</th>\n",
              "      <td>553.44397</td>\n",
              "    </tr>\n",
              "  </tbody>\n",
              "</table>\n",
              "</div>\n",
              "      <button class=\"colab-df-convert\" onclick=\"convertToInteractive('df-31ce7ef7-ed3d-44d6-a02b-3b33f5d706b1')\"\n",
              "              title=\"Convert this dataframe to an interactive table.\"\n",
              "              style=\"display:none;\">\n",
              "        \n",
              "  <svg xmlns=\"http://www.w3.org/2000/svg\" height=\"24px\"viewBox=\"0 0 24 24\"\n",
              "       width=\"24px\">\n",
              "    <path d=\"M0 0h24v24H0V0z\" fill=\"none\"/>\n",
              "    <path d=\"M18.56 5.44l.94 2.06.94-2.06 2.06-.94-2.06-.94-.94-2.06-.94 2.06-2.06.94zm-11 1L8.5 8.5l.94-2.06 2.06-.94-2.06-.94L8.5 2.5l-.94 2.06-2.06.94zm10 10l.94 2.06.94-2.06 2.06-.94-2.06-.94-.94-2.06-.94 2.06-2.06.94z\"/><path d=\"M17.41 7.96l-1.37-1.37c-.4-.4-.92-.59-1.43-.59-.52 0-1.04.2-1.43.59L10.3 9.45l-7.72 7.72c-.78.78-.78 2.05 0 2.83L4 21.41c.39.39.9.59 1.41.59.51 0 1.02-.2 1.41-.59l7.78-7.78 2.81-2.81c.8-.78.8-2.07 0-2.86zM5.41 20L4 18.59l7.72-7.72 1.47 1.35L5.41 20z\"/>\n",
              "  </svg>\n",
              "      </button>\n",
              "      \n",
              "  <style>\n",
              "    .colab-df-container {\n",
              "      display:flex;\n",
              "      flex-wrap:wrap;\n",
              "      gap: 12px;\n",
              "    }\n",
              "\n",
              "    .colab-df-convert {\n",
              "      background-color: #E8F0FE;\n",
              "      border: none;\n",
              "      border-radius: 50%;\n",
              "      cursor: pointer;\n",
              "      display: none;\n",
              "      fill: #1967D2;\n",
              "      height: 32px;\n",
              "      padding: 0 0 0 0;\n",
              "      width: 32px;\n",
              "    }\n",
              "\n",
              "    .colab-df-convert:hover {\n",
              "      background-color: #E2EBFA;\n",
              "      box-shadow: 0px 1px 2px rgba(60, 64, 67, 0.3), 0px 1px 3px 1px rgba(60, 64, 67, 0.15);\n",
              "      fill: #174EA6;\n",
              "    }\n",
              "\n",
              "    [theme=dark] .colab-df-convert {\n",
              "      background-color: #3B4455;\n",
              "      fill: #D2E3FC;\n",
              "    }\n",
              "\n",
              "    [theme=dark] .colab-df-convert:hover {\n",
              "      background-color: #434B5C;\n",
              "      box-shadow: 0px 1px 3px 1px rgba(0, 0, 0, 0.15);\n",
              "      filter: drop-shadow(0px 1px 2px rgba(0, 0, 0, 0.3));\n",
              "      fill: #FFFFFF;\n",
              "    }\n",
              "  </style>\n",
              "\n",
              "      <script>\n",
              "        const buttonEl =\n",
              "          document.querySelector('#df-31ce7ef7-ed3d-44d6-a02b-3b33f5d706b1 button.colab-df-convert');\n",
              "        buttonEl.style.display =\n",
              "          google.colab.kernel.accessAllowed ? 'block' : 'none';\n",
              "\n",
              "        async function convertToInteractive(key) {\n",
              "          const element = document.querySelector('#df-31ce7ef7-ed3d-44d6-a02b-3b33f5d706b1');\n",
              "          const dataTable =\n",
              "            await google.colab.kernel.invokeFunction('convertToInteractive',\n",
              "                                                     [key], {});\n",
              "          if (!dataTable) return;\n",
              "\n",
              "          const docLinkHtml = 'Like what you see? Visit the ' +\n",
              "            '<a target=\"_blank\" href=https://colab.research.google.com/notebooks/data_table.ipynb>data table notebook</a>'\n",
              "            + ' to learn more about interactive tables.';\n",
              "          element.innerHTML = '';\n",
              "          dataTable['output_type'] = 'display_data';\n",
              "          await google.colab.output.renderOutput(dataTable, element);\n",
              "          const docLink = document.createElement('div');\n",
              "          docLink.innerHTML = docLinkHtml;\n",
              "          element.appendChild(docLink);\n",
              "        }\n",
              "      </script>\n",
              "    </div>\n",
              "  </div>\n",
              "  "
            ]
          },
          "metadata": {},
          "execution_count": 13
        }
      ]
    },
    {
      "cell_type": "code",
      "source": [
        "# Select observations with minimum values in Pandas Dataframe\n",
        "df.min().to_frame()"
      ],
      "metadata": {
        "colab": {
          "base_uri": "https://localhost:8080/",
          "height": 237
        },
        "outputId": "89f90014-d09f-431b-f938-2d41f579503d",
        "id": "rTGUzZVD2ezq"
      },
      "execution_count": 14,
      "outputs": [
        {
          "output_type": "execute_result",
          "data": {
            "text/plain": [
              "                    0\n",
              "Date        1/10/2023\n",
              "Open           450.75\n",
              "High       457.809998\n",
              "Low         436.51001\n",
              "Close      452.059998\n",
              "Adj Close  449.261078"
            ],
            "text/html": [
              "\n",
              "  <div id=\"df-e8d6c727-7172-4373-9cb7-168349a0e3ca\">\n",
              "    <div class=\"colab-df-container\">\n",
              "      <div>\n",
              "<style scoped>\n",
              "    .dataframe tbody tr th:only-of-type {\n",
              "        vertical-align: middle;\n",
              "    }\n",
              "\n",
              "    .dataframe tbody tr th {\n",
              "        vertical-align: top;\n",
              "    }\n",
              "\n",
              "    .dataframe thead th {\n",
              "        text-align: right;\n",
              "    }\n",
              "</style>\n",
              "<table border=\"1\" class=\"dataframe\">\n",
              "  <thead>\n",
              "    <tr style=\"text-align: right;\">\n",
              "      <th></th>\n",
              "      <th>0</th>\n",
              "    </tr>\n",
              "  </thead>\n",
              "  <tbody>\n",
              "    <tr>\n",
              "      <th>Date</th>\n",
              "      <td>1/10/2023</td>\n",
              "    </tr>\n",
              "    <tr>\n",
              "      <th>Open</th>\n",
              "      <td>450.75</td>\n",
              "    </tr>\n",
              "    <tr>\n",
              "      <th>High</th>\n",
              "      <td>457.809998</td>\n",
              "    </tr>\n",
              "    <tr>\n",
              "      <th>Low</th>\n",
              "      <td>436.51001</td>\n",
              "    </tr>\n",
              "    <tr>\n",
              "      <th>Close</th>\n",
              "      <td>452.059998</td>\n",
              "    </tr>\n",
              "    <tr>\n",
              "      <th>Adj Close</th>\n",
              "      <td>449.261078</td>\n",
              "    </tr>\n",
              "  </tbody>\n",
              "</table>\n",
              "</div>\n",
              "      <button class=\"colab-df-convert\" onclick=\"convertToInteractive('df-e8d6c727-7172-4373-9cb7-168349a0e3ca')\"\n",
              "              title=\"Convert this dataframe to an interactive table.\"\n",
              "              style=\"display:none;\">\n",
              "        \n",
              "  <svg xmlns=\"http://www.w3.org/2000/svg\" height=\"24px\"viewBox=\"0 0 24 24\"\n",
              "       width=\"24px\">\n",
              "    <path d=\"M0 0h24v24H0V0z\" fill=\"none\"/>\n",
              "    <path d=\"M18.56 5.44l.94 2.06.94-2.06 2.06-.94-2.06-.94-.94-2.06-.94 2.06-2.06.94zm-11 1L8.5 8.5l.94-2.06 2.06-.94-2.06-.94L8.5 2.5l-.94 2.06-2.06.94zm10 10l.94 2.06.94-2.06 2.06-.94-2.06-.94-.94-2.06-.94 2.06-2.06.94z\"/><path d=\"M17.41 7.96l-1.37-1.37c-.4-.4-.92-.59-1.43-.59-.52 0-1.04.2-1.43.59L10.3 9.45l-7.72 7.72c-.78.78-.78 2.05 0 2.83L4 21.41c.39.39.9.59 1.41.59.51 0 1.02-.2 1.41-.59l7.78-7.78 2.81-2.81c.8-.78.8-2.07 0-2.86zM5.41 20L4 18.59l7.72-7.72 1.47 1.35L5.41 20z\"/>\n",
              "  </svg>\n",
              "      </button>\n",
              "      \n",
              "  <style>\n",
              "    .colab-df-container {\n",
              "      display:flex;\n",
              "      flex-wrap:wrap;\n",
              "      gap: 12px;\n",
              "    }\n",
              "\n",
              "    .colab-df-convert {\n",
              "      background-color: #E8F0FE;\n",
              "      border: none;\n",
              "      border-radius: 50%;\n",
              "      cursor: pointer;\n",
              "      display: none;\n",
              "      fill: #1967D2;\n",
              "      height: 32px;\n",
              "      padding: 0 0 0 0;\n",
              "      width: 32px;\n",
              "    }\n",
              "\n",
              "    .colab-df-convert:hover {\n",
              "      background-color: #E2EBFA;\n",
              "      box-shadow: 0px 1px 2px rgba(60, 64, 67, 0.3), 0px 1px 3px 1px rgba(60, 64, 67, 0.15);\n",
              "      fill: #174EA6;\n",
              "    }\n",
              "\n",
              "    [theme=dark] .colab-df-convert {\n",
              "      background-color: #3B4455;\n",
              "      fill: #D2E3FC;\n",
              "    }\n",
              "\n",
              "    [theme=dark] .colab-df-convert:hover {\n",
              "      background-color: #434B5C;\n",
              "      box-shadow: 0px 1px 3px 1px rgba(0, 0, 0, 0.15);\n",
              "      filter: drop-shadow(0px 1px 2px rgba(0, 0, 0, 0.3));\n",
              "      fill: #FFFFFF;\n",
              "    }\n",
              "  </style>\n",
              "\n",
              "      <script>\n",
              "        const buttonEl =\n",
              "          document.querySelector('#df-e8d6c727-7172-4373-9cb7-168349a0e3ca button.colab-df-convert');\n",
              "        buttonEl.style.display =\n",
              "          google.colab.kernel.accessAllowed ? 'block' : 'none';\n",
              "\n",
              "        async function convertToInteractive(key) {\n",
              "          const element = document.querySelector('#df-e8d6c727-7172-4373-9cb7-168349a0e3ca');\n",
              "          const dataTable =\n",
              "            await google.colab.kernel.invokeFunction('convertToInteractive',\n",
              "                                                     [key], {});\n",
              "          if (!dataTable) return;\n",
              "\n",
              "          const docLinkHtml = 'Like what you see? Visit the ' +\n",
              "            '<a target=\"_blank\" href=https://colab.research.google.com/notebooks/data_table.ipynb>data table notebook</a>'\n",
              "            + ' to learn more about interactive tables.';\n",
              "          element.innerHTML = '';\n",
              "          dataTable['output_type'] = 'display_data';\n",
              "          await google.colab.output.renderOutput(dataTable, element);\n",
              "          const docLink = document.createElement('div');\n",
              "          docLink.innerHTML = docLinkHtml;\n",
              "          element.appendChild(docLink);\n",
              "        }\n",
              "      </script>\n",
              "    </div>\n",
              "  </div>\n",
              "  "
            ]
          },
          "metadata": {},
          "execution_count": 14
        }
      ]
    },
    {
      "cell_type": "code",
      "source": [
        "# Select number of data with max High prices\n",
        "df[df.High == df.High.max()]"
      ],
      "metadata": {
        "colab": {
          "base_uri": "https://localhost:8080/",
          "height": 81
        },
        "id": "VXMz03WI10Wz",
        "outputId": "a09c58be-e252-4ab6-c273-4b232da12b54"
      },
      "execution_count": 19,
      "outputs": [
        {
          "output_type": "execute_result",
          "data": {
            "text/plain": [
              "           Date   Open        High         Low       Close  Adj Close\n",
              "170  10/31/2022  555.0  558.099976  550.130005  555.150024  553.44397"
            ],
            "text/html": [
              "\n",
              "  <div id=\"df-fa9a3394-ee6f-4ce1-bbdc-db5c5724c6ea\">\n",
              "    <div class=\"colab-df-container\">\n",
              "      <div>\n",
              "<style scoped>\n",
              "    .dataframe tbody tr th:only-of-type {\n",
              "        vertical-align: middle;\n",
              "    }\n",
              "\n",
              "    .dataframe tbody tr th {\n",
              "        vertical-align: top;\n",
              "    }\n",
              "\n",
              "    .dataframe thead th {\n",
              "        text-align: right;\n",
              "    }\n",
              "</style>\n",
              "<table border=\"1\" class=\"dataframe\">\n",
              "  <thead>\n",
              "    <tr style=\"text-align: right;\">\n",
              "      <th></th>\n",
              "      <th>Date</th>\n",
              "      <th>Open</th>\n",
              "      <th>High</th>\n",
              "      <th>Low</th>\n",
              "      <th>Close</th>\n",
              "      <th>Adj Close</th>\n",
              "    </tr>\n",
              "  </thead>\n",
              "  <tbody>\n",
              "    <tr>\n",
              "      <th>170</th>\n",
              "      <td>10/31/2022</td>\n",
              "      <td>555.0</td>\n",
              "      <td>558.099976</td>\n",
              "      <td>550.130005</td>\n",
              "      <td>555.150024</td>\n",
              "      <td>553.44397</td>\n",
              "    </tr>\n",
              "  </tbody>\n",
              "</table>\n",
              "</div>\n",
              "      <button class=\"colab-df-convert\" onclick=\"convertToInteractive('df-fa9a3394-ee6f-4ce1-bbdc-db5c5724c6ea')\"\n",
              "              title=\"Convert this dataframe to an interactive table.\"\n",
              "              style=\"display:none;\">\n",
              "        \n",
              "  <svg xmlns=\"http://www.w3.org/2000/svg\" height=\"24px\"viewBox=\"0 0 24 24\"\n",
              "       width=\"24px\">\n",
              "    <path d=\"M0 0h24v24H0V0z\" fill=\"none\"/>\n",
              "    <path d=\"M18.56 5.44l.94 2.06.94-2.06 2.06-.94-2.06-.94-.94-2.06-.94 2.06-2.06.94zm-11 1L8.5 8.5l.94-2.06 2.06-.94-2.06-.94L8.5 2.5l-.94 2.06-2.06.94zm10 10l.94 2.06.94-2.06 2.06-.94-2.06-.94-.94-2.06-.94 2.06-2.06.94z\"/><path d=\"M17.41 7.96l-1.37-1.37c-.4-.4-.92-.59-1.43-.59-.52 0-1.04.2-1.43.59L10.3 9.45l-7.72 7.72c-.78.78-.78 2.05 0 2.83L4 21.41c.39.39.9.59 1.41.59.51 0 1.02-.2 1.41-.59l7.78-7.78 2.81-2.81c.8-.78.8-2.07 0-2.86zM5.41 20L4 18.59l7.72-7.72 1.47 1.35L5.41 20z\"/>\n",
              "  </svg>\n",
              "      </button>\n",
              "      \n",
              "  <style>\n",
              "    .colab-df-container {\n",
              "      display:flex;\n",
              "      flex-wrap:wrap;\n",
              "      gap: 12px;\n",
              "    }\n",
              "\n",
              "    .colab-df-convert {\n",
              "      background-color: #E8F0FE;\n",
              "      border: none;\n",
              "      border-radius: 50%;\n",
              "      cursor: pointer;\n",
              "      display: none;\n",
              "      fill: #1967D2;\n",
              "      height: 32px;\n",
              "      padding: 0 0 0 0;\n",
              "      width: 32px;\n",
              "    }\n",
              "\n",
              "    .colab-df-convert:hover {\n",
              "      background-color: #E2EBFA;\n",
              "      box-shadow: 0px 1px 2px rgba(60, 64, 67, 0.3), 0px 1px 3px 1px rgba(60, 64, 67, 0.15);\n",
              "      fill: #174EA6;\n",
              "    }\n",
              "\n",
              "    [theme=dark] .colab-df-convert {\n",
              "      background-color: #3B4455;\n",
              "      fill: #D2E3FC;\n",
              "    }\n",
              "\n",
              "    [theme=dark] .colab-df-convert:hover {\n",
              "      background-color: #434B5C;\n",
              "      box-shadow: 0px 1px 3px 1px rgba(0, 0, 0, 0.15);\n",
              "      filter: drop-shadow(0px 1px 2px rgba(0, 0, 0, 0.3));\n",
              "      fill: #FFFFFF;\n",
              "    }\n",
              "  </style>\n",
              "\n",
              "      <script>\n",
              "        const buttonEl =\n",
              "          document.querySelector('#df-fa9a3394-ee6f-4ce1-bbdc-db5c5724c6ea button.colab-df-convert');\n",
              "        buttonEl.style.display =\n",
              "          google.colab.kernel.accessAllowed ? 'block' : 'none';\n",
              "\n",
              "        async function convertToInteractive(key) {\n",
              "          const element = document.querySelector('#df-fa9a3394-ee6f-4ce1-bbdc-db5c5724c6ea');\n",
              "          const dataTable =\n",
              "            await google.colab.kernel.invokeFunction('convertToInteractive',\n",
              "                                                     [key], {});\n",
              "          if (!dataTable) return;\n",
              "\n",
              "          const docLinkHtml = 'Like what you see? Visit the ' +\n",
              "            '<a target=\"_blank\" href=https://colab.research.google.com/notebooks/data_table.ipynb>data table notebook</a>'\n",
              "            + ' to learn more about interactive tables.';\n",
              "          element.innerHTML = '';\n",
              "          dataTable['output_type'] = 'display_data';\n",
              "          await google.colab.output.renderOutput(dataTable, element);\n",
              "          const docLink = document.createElement('div');\n",
              "          docLink.innerHTML = docLinkHtml;\n",
              "          element.appendChild(docLink);\n",
              "        }\n",
              "      </script>\n",
              "    </div>\n",
              "  </div>\n",
              "  "
            ]
          },
          "metadata": {},
          "execution_count": 19
        }
      ]
    },
    {
      "cell_type": "markdown",
      "metadata": {
        "id": "0wOfzXLCPj09"
      },
      "source": [
        "![image.png](data:image/png;base64,iVBORw0KGgoAAAANSUhEUgAABhwAAAARCAMAAAAR+PY7AAAAAXNSR0IArs4c6QAAAARnQU1BAACxjwv8YQUAAAASUExURQAAAOt8MOx9MO1+Mu59Me19MafuwrkAAAAFdFJOUwBAYIC/cfWj+gAAAAlwSFlzAAAXEQAAFxEByibzPwAAAF5JREFUeF7t27ENgDAQBMG3Df23jGS9IbiYbKaJjbbWDQDbqkMcAGjiAEAQBwCCOAAQvjjMCwC22WkAAAAAAAAAgJ+MBQDb6DT4HAB4meAACOIAQBAHAII4ABA6DlUPZaFaVMzkEVsAAAAASUVORK5CYII=)"
      ]
    },
    {
      "cell_type": "markdown",
      "source": [
        "## Part II: Probability Distributions"
      ],
      "metadata": {
        "id": "mxed5eph4Coc"
      }
    },
    {
      "cell_type": "markdown",
      "metadata": {
        "id": "ai6e1N6TF_CH"
      },
      "source": [
        "### Let's import the libraries "
      ]
    },
    {
      "cell_type": "code",
      "execution_count": null,
      "metadata": {
        "id": "aYQeekfS3tc3"
      },
      "outputs": [],
      "source": [
        "# import the important packages\n",
        "import pandas as pd  # library used for data manipulation and analysis\n",
        "import numpy as np  # library used for working with arrays\n",
        "import matplotlib.pyplot as plt  # library for plots and visualizations\n",
        "import seaborn as sns  # library for visualizations\n",
        "\n",
        "%matplotlib inline\n",
        "\n",
        "import scipy.stats as stats  # this library contains a large number of probability distributions as well as a growing library of statistical functions"
      ]
    },
    {
      "cell_type": "markdown",
      "metadata": {
        "id": "GN9BpvYCPltN"
      },
      "source": [
        "![image.png](data:image/png;base64,iVBORw0KGgoAAAANSUhEUgAABhwAAAARCAMAAAAR+PY7AAAAAXNSR0IArs4c6QAAAARnQU1BAACxjwv8YQUAAAASUExURQAAAOt8MOx9MO1+Mu59Me19MafuwrkAAAAFdFJOUwBAYIC/cfWj+gAAAAlwSFlzAAAXEQAAFxEByibzPwAAAF5JREFUeF7t27ENgDAQBMG3Df23jGS9IbiYbKaJjbbWDQDbqkMcAGjiAEAQBwCCOAAQvjjMCwC22WkAAAAAAAAAgJ+MBQDb6DT4HAB4meAACOIAQBAHAII4ABA6DlUPZaFaVMzkEVsAAAAASUVORK5CYII=)"
      ]
    },
    {
      "cell_type": "markdown",
      "metadata": {
        "id": "QUnO4uNt6YLO"
      },
      "source": [
        "# <a name='link3'>**Normal Distribution**</a>"
      ]
    },
    {
      "cell_type": "markdown",
      "metadata": {
        "id": "DAv1ySGD0sVL"
      },
      "source": [
        "### **Problem statement**\n",
        "\n",
        "The data for our analysis shows the quantity of insurance products that 1000 employees in Insurance Company sold in a given year. Based on the historical sales we want to estimate what will happen in the coming year. We want to:\n",
        "\n",
        "1. Calculate the probability that an employee will sell  less than 800 products next year\n",
        "\n",
        "2. Calculate the probability that an employee will sell more than 1300 products next year\n",
        "3. Calculate the minimum items employee must sell in order to secure 90th percentile\n",
        "4. Calculate the minimum item an employee must sell in order to be in the top 5%\n",
        "\n",
        "5. Wha is the probability that an employee will sell exactly 1000 products\n"
      ]
    },
    {
      "cell_type": "code",
      "source": [
        "#methd1: Reading the sales data \n",
        "df=pd.read_csv(\"Sales.csv\")"
      ],
      "metadata": {
        "id": "pwzI7pRekhZl"
      },
      "execution_count": null,
      "outputs": []
    },
    {
      "cell_type": "markdown",
      "metadata": {
        "id": "-4qW1rxRREvT"
      },
      "source": [
        "### Reading the Data into the Dataframe"
      ]
    },
    {
      "cell_type": "code",
      "execution_count": null,
      "metadata": {
        "colab": {
          "base_uri": "https://localhost:8080/",
          "height": 206
        },
        "id": "v9AABdoqSiP7",
        "outputId": "358e6736-0622-4d91-bec4-144641a1e30f"
      },
      "outputs": [
        {
          "output_type": "execute_result",
          "data": {
            "text/plain": [
              "   Emp_id  Quantity\n",
              "0  GTX001      1018\n",
              "1  GTX002      1218\n",
              "2  GTX003       611\n",
              "3  GTX004       723\n",
              "4  GTX005       541"
            ],
            "text/html": [
              "\n",
              "  <div id=\"df-1221c3dd-47f0-4ca0-b7e9-28012c02cd7a\">\n",
              "    <div class=\"colab-df-container\">\n",
              "      <div>\n",
              "<style scoped>\n",
              "    .dataframe tbody tr th:only-of-type {\n",
              "        vertical-align: middle;\n",
              "    }\n",
              "\n",
              "    .dataframe tbody tr th {\n",
              "        vertical-align: top;\n",
              "    }\n",
              "\n",
              "    .dataframe thead th {\n",
              "        text-align: right;\n",
              "    }\n",
              "</style>\n",
              "<table border=\"1\" class=\"dataframe\">\n",
              "  <thead>\n",
              "    <tr style=\"text-align: right;\">\n",
              "      <th></th>\n",
              "      <th>Emp_id</th>\n",
              "      <th>Quantity</th>\n",
              "    </tr>\n",
              "  </thead>\n",
              "  <tbody>\n",
              "    <tr>\n",
              "      <th>0</th>\n",
              "      <td>GTX001</td>\n",
              "      <td>1018</td>\n",
              "    </tr>\n",
              "    <tr>\n",
              "      <th>1</th>\n",
              "      <td>GTX002</td>\n",
              "      <td>1218</td>\n",
              "    </tr>\n",
              "    <tr>\n",
              "      <th>2</th>\n",
              "      <td>GTX003</td>\n",
              "      <td>611</td>\n",
              "    </tr>\n",
              "    <tr>\n",
              "      <th>3</th>\n",
              "      <td>GTX004</td>\n",
              "      <td>723</td>\n",
              "    </tr>\n",
              "    <tr>\n",
              "      <th>4</th>\n",
              "      <td>GTX005</td>\n",
              "      <td>541</td>\n",
              "    </tr>\n",
              "  </tbody>\n",
              "</table>\n",
              "</div>\n",
              "      <button class=\"colab-df-convert\" onclick=\"convertToInteractive('df-1221c3dd-47f0-4ca0-b7e9-28012c02cd7a')\"\n",
              "              title=\"Convert this dataframe to an interactive table.\"\n",
              "              style=\"display:none;\">\n",
              "        \n",
              "  <svg xmlns=\"http://www.w3.org/2000/svg\" height=\"24px\"viewBox=\"0 0 24 24\"\n",
              "       width=\"24px\">\n",
              "    <path d=\"M0 0h24v24H0V0z\" fill=\"none\"/>\n",
              "    <path d=\"M18.56 5.44l.94 2.06.94-2.06 2.06-.94-2.06-.94-.94-2.06-.94 2.06-2.06.94zm-11 1L8.5 8.5l.94-2.06 2.06-.94-2.06-.94L8.5 2.5l-.94 2.06-2.06.94zm10 10l.94 2.06.94-2.06 2.06-.94-2.06-.94-.94-2.06-.94 2.06-2.06.94z\"/><path d=\"M17.41 7.96l-1.37-1.37c-.4-.4-.92-.59-1.43-.59-.52 0-1.04.2-1.43.59L10.3 9.45l-7.72 7.72c-.78.78-.78 2.05 0 2.83L4 21.41c.39.39.9.59 1.41.59.51 0 1.02-.2 1.41-.59l7.78-7.78 2.81-2.81c.8-.78.8-2.07 0-2.86zM5.41 20L4 18.59l7.72-7.72 1.47 1.35L5.41 20z\"/>\n",
              "  </svg>\n",
              "      </button>\n",
              "      \n",
              "  <style>\n",
              "    .colab-df-container {\n",
              "      display:flex;\n",
              "      flex-wrap:wrap;\n",
              "      gap: 12px;\n",
              "    }\n",
              "\n",
              "    .colab-df-convert {\n",
              "      background-color: #E8F0FE;\n",
              "      border: none;\n",
              "      border-radius: 50%;\n",
              "      cursor: pointer;\n",
              "      display: none;\n",
              "      fill: #1967D2;\n",
              "      height: 32px;\n",
              "      padding: 0 0 0 0;\n",
              "      width: 32px;\n",
              "    }\n",
              "\n",
              "    .colab-df-convert:hover {\n",
              "      background-color: #E2EBFA;\n",
              "      box-shadow: 0px 1px 2px rgba(60, 64, 67, 0.3), 0px 1px 3px 1px rgba(60, 64, 67, 0.15);\n",
              "      fill: #174EA6;\n",
              "    }\n",
              "\n",
              "    [theme=dark] .colab-df-convert {\n",
              "      background-color: #3B4455;\n",
              "      fill: #D2E3FC;\n",
              "    }\n",
              "\n",
              "    [theme=dark] .colab-df-convert:hover {\n",
              "      background-color: #434B5C;\n",
              "      box-shadow: 0px 1px 3px 1px rgba(0, 0, 0, 0.15);\n",
              "      filter: drop-shadow(0px 1px 2px rgba(0, 0, 0, 0.3));\n",
              "      fill: #FFFFFF;\n",
              "    }\n",
              "  </style>\n",
              "\n",
              "      <script>\n",
              "        const buttonEl =\n",
              "          document.querySelector('#df-1221c3dd-47f0-4ca0-b7e9-28012c02cd7a button.colab-df-convert');\n",
              "        buttonEl.style.display =\n",
              "          google.colab.kernel.accessAllowed ? 'block' : 'none';\n",
              "\n",
              "        async function convertToInteractive(key) {\n",
              "          const element = document.querySelector('#df-1221c3dd-47f0-4ca0-b7e9-28012c02cd7a');\n",
              "          const dataTable =\n",
              "            await google.colab.kernel.invokeFunction('convertToInteractive',\n",
              "                                                     [key], {});\n",
              "          if (!dataTable) return;\n",
              "\n",
              "          const docLinkHtml = 'Like what you see? Visit the ' +\n",
              "            '<a target=\"_blank\" href=https://colab.research.google.com/notebooks/data_table.ipynb>data table notebook</a>'\n",
              "            + ' to learn more about interactive tables.';\n",
              "          element.innerHTML = '';\n",
              "          dataTable['output_type'] = 'display_data';\n",
              "          await google.colab.output.renderOutput(dataTable, element);\n",
              "          const docLink = document.createElement('div');\n",
              "          docLink.innerHTML = docLinkHtml;\n",
              "          element.appendChild(docLink);\n",
              "        }\n",
              "      </script>\n",
              "    </div>\n",
              "  </div>\n",
              "  "
            ]
          },
          "metadata": {},
          "execution_count": 48
        }
      ],
      "source": [
        "# extracting the first 5 rows\n",
        "df.head()"
      ]
    },
    {
      "cell_type": "markdown",
      "metadata": {
        "id": "dQi7JSQgSRAH"
      },
      "source": [
        "### Calculating the mean and standard deviation (parameters) \n",
        "\n"
      ]
    },
    {
      "cell_type": "code",
      "execution_count": null,
      "metadata": {
        "colab": {
          "base_uri": "https://localhost:8080/"
        },
        "id": "9-SdkGCiSuug",
        "outputId": "e3854ccc-c7bc-40eb-b029-3f18b7c0a8cd"
      },
      "outputs": [
        {
          "output_type": "stream",
          "name": "stdout",
          "text": [
            "The estimated mean is 1007.46\n",
            "The estimated standard deviation is 204.43\n"
          ]
        }
      ],
      "source": [
        "# import the required function\n",
        "from scipy.stats import norm\n",
        "\n",
        "# estimate the mean and standard deviation of the sales data\n",
        "mu = df[\"Quantity\"].mean()\n",
        "sigma = df[\"Quantity\"].std()\n",
        "print(\"The estimated mean is\", round(mu, 2))\n",
        "print(\"The estimated standard deviation is\", round(sigma, 2))"
      ]
    },
    {
      "cell_type": "code",
      "source": [
        "# Verifying the mean\n",
        "df['Quantity'].mean()"
      ],
      "metadata": {
        "colab": {
          "base_uri": "https://localhost:8080/"
        },
        "id": "n3npPYpQ5wzN",
        "outputId": "9f26863c-32a6-4f24-d2bd-441237397a49"
      },
      "execution_count": null,
      "outputs": [
        {
          "output_type": "execute_result",
          "data": {
            "text/plain": [
              "1007.46"
            ]
          },
          "metadata": {},
          "execution_count": 51
        }
      ]
    },
    {
      "cell_type": "code",
      "source": [
        "# Verifying the std\n",
        "round(df['Quantity'].std(),2)"
      ],
      "metadata": {
        "colab": {
          "base_uri": "https://localhost:8080/"
        },
        "id": "1FWYEZYZ5wlB",
        "outputId": "41f28307-4dc5-4aa9-be9c-0f3c02aeca19"
      },
      "execution_count": null,
      "outputs": [
        {
          "output_type": "execute_result",
          "data": {
            "text/plain": [
              "204.43"
            ]
          },
          "metadata": {},
          "execution_count": 53
        }
      ]
    },
    {
      "cell_type": "code",
      "source": [
        "round(df[\"Quantity\"].describe(),2)"
      ],
      "metadata": {
        "colab": {
          "base_uri": "https://localhost:8080/"
        },
        "id": "oeymccPR6M1i",
        "outputId": "e08e6f39-7f07-4e4f-83e0-01b85b5803ab"
      },
      "execution_count": null,
      "outputs": [
        {
          "output_type": "execute_result",
          "data": {
            "text/plain": [
              "count    1000.00\n",
              "mean     1007.46\n",
              "std       204.43\n",
              "min       288.00\n",
              "25%       873.00\n",
              "50%      1010.00\n",
              "75%      1148.00\n",
              "max      1612.00\n",
              "Name: Quantity, dtype: float64"
            ]
          },
          "metadata": {},
          "execution_count": 54
        }
      ]
    },
    {
      "cell_type": "markdown",
      "metadata": {
        "id": "-LfgewK8S_eW"
      },
      "source": [
        "### Plotting the Distribution \n",
        "\n",
        "It  will help us analyze the shape of the data and visualize the PDF of normal distribution using the parameters (mean (mu) and Standard deviation (sigma)) from the data."
      ]
    },
    {
      "cell_type": "code",
      "execution_count": null,
      "metadata": {
        "colab": {
          "base_uri": "https://localhost:8080/",
          "height": 295
        },
        "id": "vOHuwBtCTF84",
        "outputId": "e2091a5b-31f3-4a70-f056-99d0f45d612c"
      },
      "outputs": [
        {
          "output_type": "display_data",
          "data": {
            "text/plain": [
              "<Figure size 432x288 with 1 Axes>"
            ],
            "image/png": "[encoded data removed]"
          },
          "metadata": {
            "needs_background": "light"
          }
        }
      ],
      "source": [
        "# calculate the pdf of items sold using norm.pdf()\n",
        "density = pd.DataFrame() # create an empty DataFrame\n",
        "density[\"x\"] = np.linspace(\n",
        "    df[\"Quantity\"].min(), df[\"Quantity\"].max(), 100  # n=100, number of rows\n",
        ") # create an array of 100 numbers in between the min and max score range and store it in the first column of the empty DataFrame\n",
        "density[\"pdf\"] = norm.pdf(density[\"x\"], mu, sigma) # calculate the pdf() of the created numbers and store it in another column named 'pdf'\n",
        "\n",
        "fig, ax = plt.subplots() # create the subplot\n",
        "sns.histplot(df[\"Quantity\"], ax=ax, kde=True, stat=\"density\") # plot the distribution of data using histogram\n",
        "ax.plot(density[\"x\"], density[\"pdf\"], color=\"red\") # plot the pdf of the normal distribution\n",
        "plt.title(\"Normal Distribution\") # set the title\n",
        "plt.show() # display the plot"
      ]
    },
    {
      "cell_type": "markdown",
      "metadata": {
        "id": "TaxsnyemW_XO"
      },
      "source": [
        "As you can see in the above plot, there are two curves red and blue. Blue curve represents the shape of data distribution and the red curve represents the PDF (Probability density function). This data is approximately normal. Thus, we can assume this data distribution to be normal and perform our calculations based on the normality assumption.\n",
        "\n",
        "X ~ N(mu, sigma)"
      ]
    },
    {
      "cell_type": "markdown",
      "metadata": {
        "id": "QwAnza_V2_zd"
      },
      "source": [
        "**Calculate the probability that employee will sell less than 800 products next year.**"
      ]
    },
    {
      "cell_type": "code",
      "execution_count": null,
      "metadata": {
        "colab": {
          "base_uri": "https://localhost:8080/"
        },
        "id": "q8tpyDpA3ECE",
        "outputId": "e1958f21-602f-4f04-b8bd-44b7df6e0ecc"
      },
      "outputs": [
        {
          "output_type": "stream",
          "name": "stdout",
          "text": [
            "The probability that employee will sell less than 800 is 0.1551\n"
          ]
        }
      ],
      "source": [
        "# find the cumulative probability\n",
        "# norm.cdf() calculates the cumulative probability\n",
        "from scipy.stats import norm\n",
        "prob_less_than_800 = norm.cdf(800, mu, sigma)\n",
        "print(\n",
        "    \"The probability that employee will sell less than 800 is\",\n",
        "    round(prob_less_than_800, 4),\n",
        ")"
      ]
    },
    {
      "cell_type": "code",
      "execution_count": null,
      "metadata": {
        "colab": {
          "base_uri": "https://localhost:8080/",
          "height": 295
        },
        "id": "jfCFhTswmyGQ",
        "outputId": "5fb0253f-9434-45cc-ff7a-1ee351d6ab3d"
      },
      "outputs": [
        {
          "output_type": "display_data",
          "data": {
            "text/plain": [
              "<Figure size 432x288 with 1 Axes>"
            ],
            "image/png": "[encoded data removed]"
          },
          "metadata": {
            "needs_background": "light"
          }
        }
      ],
      "source": [
        "# plot the probability distribution\n",
        "# We are plotting the distributions here to better visualize the calculations.\n",
        "# Of course you do not 'need' to create the following visualization to answer the question above.\n",
        "# You can directly use the cdf function for probability calculations.\n",
        "plt.plot(density[\"x\"], density[\"pdf\"]) # plot the pdf of the normal distribution\n",
        "plt.axvline(x=800, c=\"r\") # draw a red vertical line at x = 800\n",
        "x1 = np.linspace(density[\"x\"].min(), 800, 50) # create an array of 50 numbers between min quantity and 800\n",
        "plt.fill_between(x1, norm.pdf(x1, mu, sigma), color=\"r\") # fill the specified region with red color\n",
        "plt.xlabel(\"Quantity\") # set the x-axis label\n",
        "plt.ylabel(\"Probability\") # set the y-axis label\n",
        "plt.title(\"Normal Distribution\") # set the title\n",
        "plt.show() # display the plot"
      ]
    },
    {
      "cell_type": "markdown",
      "metadata": {
        "id": "6ex638Ds2ZB7"
      },
      "source": [
        "**Calculate the probability that an employee will sell more than 1300 products next year.**"
      ]
    },
    {
      "cell_type": "code",
      "execution_count": null,
      "metadata": {
        "colab": {
          "base_uri": "https://localhost:8080/"
        },
        "id": "XKNmeEcitQ5I",
        "outputId": "0b70606a-cc88-47b2-f699-86fdb9ce2557"
      },
      "outputs": [
        {
          "output_type": "stream",
          "name": "stdout",
          "text": [
            "The probability that a student will sell more than 1300 is 0.0762\n"
          ]
        }
      ],
      "source": [
        "# find the cumulative probability and subtract it from 1 to calculate the probability that a student will sell more than 1300\n",
        "prob_greater_than_1300 = 1 - norm.cdf(1300, mu, sigma)\n",
        "print(\n",
        "    \"The probability that a student will sell more than 1300 is\",\n",
        "    round(prob_greater_than_1300, 4),\n",
        ")"
      ]
    },
    {
      "cell_type": "code",
      "execution_count": null,
      "metadata": {
        "colab": {
          "base_uri": "https://localhost:8080/",
          "height": 295
        },
        "id": "OgzxNF6JoUJT",
        "outputId": "19c5f65d-9b50-4845-d9af-903898227e84"
      },
      "outputs": [
        {
          "output_type": "display_data",
          "data": {
            "text/plain": [
              "<Figure size 432x288 with 1 Axes>"
            ],
            "image/png": "[encoded data removed]"
          },
          "metadata": {
            "needs_background": "light"
          }
        }
      ],
      "source": [
        "# plot the probability distribution\n",
        "# We are plotting the distributions here to better visualize the calculations.\n",
        "# Of course you do not 'need' to create the following visualization to answer the question above.\n",
        "# You can directly use the cdf function for probability calculations.\n",
        "plt.plot(density[\"x\"], density[\"pdf\"])\n",
        "plt.axvline(x=1300, c=\"r\")\n",
        "x1 = np.linspace(1300, density[\"x\"].max(), 50)\n",
        "plt.fill_between(x1, norm.pdf(x1, mu, sigma), color=\"r\")\n",
        "plt.xlabel(\"Quantity\")\n",
        "plt.ylabel(\"Probability\")\n",
        "plt.title(\"Normal Distribution\")\n",
        "plt.show()"
      ]
    },
    {
      "cell_type": "markdown",
      "metadata": {
        "id": "CYSTnLmh3e7G"
      },
      "source": [
        "**Calculate the minimum products an employee must sell in order to be in the 90th (top 10%) percentile**"
      ]
    },
    {
      "cell_type": "code",
      "execution_count": null,
      "metadata": {
        "colab": {
          "base_uri": "https://localhost:8080/"
        },
        "id": "1HfqiMVm3sv7",
        "outputId": "b03a2d1b-8c0f-462a-9695-c104c42fec33"
      },
      "outputs": [
        {
          "output_type": "stream",
          "name": "stdout",
          "text": [
            "The 90th percentile quantity should be 1269\n"
          ]
        }
      ],
      "source": [
        "# calculate the 90th percentile score using ppf() function\n",
        "# norm.ppf() calculates the percentile point\n",
        "Quantity_90th_percentile = norm.ppf(0.90, mu, sigma)\n",
        "print(\"The 90th percentile quantity should be\", round(Quantity_90th_percentile))"
      ]
    },
    {
      "cell_type": "code",
      "execution_count": null,
      "metadata": {
        "colab": {
          "base_uri": "https://localhost:8080/",
          "height": 295
        },
        "id": "R_hYER8mpU6S",
        "outputId": "3a7355d5-dbc4-48eb-d9f1-dc5f752adf60"
      },
      "outputs": [
        {
          "output_type": "display_data",
          "data": {
            "text/plain": [
              "<Figure size 432x288 with 1 Axes>"
            ],
            "image/png": "[encoded data removed]"
          },
          "metadata": {
            "needs_background": "light"
          }
        }
      ],
      "source": [
        "# plot the probability distribution\n",
        "# We are plotting the distributions here to better visualize the calculations.\n",
        "# Of course you do not 'need' to create the following visualization to answer the question above.\n",
        "# You can directly use the cdf function for probability calculations.\n",
        "plt.plot(density[\"x\"], density[\"pdf\"])\n",
        "plt.axvline(x=Quantity_90th_percentile, c=\"r\")\n",
        "x1 = np.linspace(1269, density[\"x\"].max(), 50) # Used the result above\n",
        "plt.fill_between(x1, norm.pdf(x1, mu, sigma), color=\"r\")\n",
        "plt.xlabel(\"Quantity\")\n",
        "plt.ylabel(\"Probability\")\n",
        "plt.title(\"Normal Distribution\")\n",
        "plt.show()"
      ]
    },
    {
      "cell_type": "markdown",
      "metadata": {
        "id": "3_FzvdEO4yau"
      },
      "source": [
        "### **Calculate the minimum quantity an employee must sell in order to be in the top 5% (95th percentiles)**"
      ]
    },
    {
      "cell_type": "code",
      "execution_count": null,
      "metadata": {
        "colab": {
          "base_uri": "https://localhost:8080/"
        },
        "id": "19O2QuIR4vIC",
        "outputId": "b31f11a1-f8df-4656-99c4-586b9e6d5b40"
      },
      "outputs": [
        {
          "output_type": "stream",
          "name": "stdout",
          "text": [
            "The minimum quatity to sell order to be in top 5% should be 1344\n"
          ]
        }
      ],
      "source": [
        "# calculate the 95th percentile score using ppf() function\n",
        "top_five_percent = norm.ppf(0.95, mu, sigma)\n",
        "print(\"The minimum quatity to sell order to be in top 5% should be\", round(top_five_percent))"
      ]
    },
    {
      "cell_type": "code",
      "execution_count": null,
      "metadata": {
        "colab": {
          "base_uri": "https://localhost:8080/",
          "height": 295
        },
        "id": "BWMz44btpquA",
        "outputId": "398c02d7-9aa3-4202-d8b9-c3270a82681d"
      },
      "outputs": [
        {
          "output_type": "display_data",
          "data": {
            "text/plain": [
              "<Figure size 432x288 with 1 Axes>"
            ],
            "image/png": "[encoded data removed]"
          },
          "metadata": {
            "needs_background": "light"
          }
        }
      ],
      "source": [
        "# plot the probability distribution\n",
        "# We are plotting the distributions here to better visualize the calculations.\n",
        "# Of course you do not 'need' to create the following visualization to answer the question above.\n",
        "# You can directly use the cdf function for probability calculations.\n",
        "plt.plot(density[\"x\"], density[\"pdf\"])\n",
        "plt.axvline(x=top_five_percent, c=\"r\")\n",
        "x1 = np.linspace(1344, density[\"x\"].max(), 50) # enter the ans above\n",
        "plt.fill_between(x1, norm.pdf(x1, mu, sigma), color=\"r\")\n",
        "plt.xlabel(\"Quantity\")\n",
        "plt.ylabel(\"Probability\")\n",
        "plt.title(\"Normal Distribution\")\n",
        "plt.show()"
      ]
    },
    {
      "cell_type": "markdown",
      "source": [
        "### **What is the probability that an employee will sell exactly 1000 products next year**"
      ],
      "metadata": {
        "id": "LbszDSVuZkMf"
      }
    },
    {
      "cell_type": "code",
      "source": [
        "# Absolute normal distribution using pdf\n",
        "# probability that a student will  800\n",
        "from scipy.stats import norm\n",
        "mu=1007.46 \n",
        "sigma=204.43\n",
        "x=1000\n",
        "prob = norm.pdf(x, mu, sigma)\n",
        "prob"
      ],
      "metadata": {
        "colab": {
          "base_uri": "https://localhost:8080/"
        },
        "id": "Y4cR82sbHzq3",
        "outputId": "eb676517-82e0-44f8-bf5b-73c3e93c0543"
      },
      "execution_count": null,
      "outputs": [
        {
          "output_type": "execute_result",
          "data": {
            "text/plain": [
              "0.0019501870767723117"
            ]
          },
          "metadata": {},
          "execution_count": 72
        }
      ]
    },
    {
      "cell_type": "markdown",
      "source": [
        "### **What is the probability that an employee will sell more than 1800 products next year?**"
      ],
      "metadata": {
        "id": "1uMnQ8C_CSRc"
      }
    },
    {
      "cell_type": "markdown",
      "source": [
        "**The area of the shaded region is a cumulative area or a cumulative probability, hence, we can use the norm.cdf() function to calculate the area.**\n",
        "\n",
        "**The cdf function helps us calculate the cumulative probability P(X>k), which is the probability that X takes the value less than or equal to k. This is the cumulative distribution function.**"
      ],
      "metadata": {
        "id": "Is8fHxVjIA0K"
      }
    },
    {
      "cell_type": "code",
      "execution_count": null,
      "metadata": {
        "colab": {
          "base_uri": "https://localhost:8080/"
        },
        "outputId": "301ab932-c86b-4943-eaa9-bacfb1789f63",
        "id": "1wQjpyYoCdtF"
      },
      "outputs": [
        {
          "output_type": "stream",
          "name": "stdout",
          "text": [
            "The probability that an employee will sell more than 1600  is 0.0019\n"
          ]
        }
      ],
      "source": [
        "# find the cumulative probability and subtract it from 1 to calculate the probability that an employee more than 1600\n",
        "prob_greater_than_1600 = 1 - norm.cdf(1600, mu, sigma)\n",
        "print(\n",
        "    \"The probability that an employee will sell more than 1600  is\",\n",
        "    round(prob_greater_than_1600, 4),\n",
        ")"
      ]
    },
    {
      "cell_type": "code",
      "execution_count": null,
      "metadata": {
        "colab": {
          "base_uri": "https://localhost:8080/",
          "height": 295
        },
        "outputId": "58494a4a-c6fb-4bb2-8331-9b868a16de8a",
        "id": "IJntdmNkP5aC"
      },
      "outputs": [
        {
          "output_type": "display_data",
          "data": {
            "text/plain": [
              "<Figure size 432x288 with 1 Axes>"
            ],
            "image/png": "[encoded data removed]"
          },
          "metadata": {
            "needs_background": "light"
          }
        }
      ],
      "source": [
        "# plot the probability distribution\n",
        "# We are plotting the distributions here to better visualize the calculations.\n",
        "# Of course you do not 'need' to create the following visualization to answer the question above.\n",
        "# You can directly use the cdf function for probability calculations.\n",
        "plt.plot(density[\"x\"], density[\"pdf\"])\n",
        "plt.axvline(x=1600, c=\"r\")\n",
        "x1 = np.linspace(1600, density[\"x\"].max(), 50)\n",
        "plt.fill_between(x1, norm.pdf(x1, mu, sigma), color=\"r\")\n",
        "plt.xlabel(\"Quantity\")\n",
        "plt.ylabel(\"Probability\")\n",
        "plt.title(\"Normal Distribution\")\n",
        "plt.show()"
      ]
    },
    {
      "cell_type": "markdown",
      "source": [
        "### **What is the probability that an employee will sell betweeen 750 and 1300next year**"
      ],
      "metadata": {
        "id": "T9eLdGEkmMg4"
      }
    },
    {
      "cell_type": "code",
      "execution_count": null,
      "metadata": {
        "colab": {
          "base_uri": "https://localhost:8080/"
        },
        "outputId": "a8bf1d45-2990-48d3-8379-5dccd4e3fa1c",
        "id": "O4_NZt_YrEUU"
      },
      "outputs": [
        {
          "output_type": "stream",
          "name": "stdout",
          "text": [
            "The probability that an employee will sell between 750 and 1300 is 0.8198\n"
          ]
        }
      ],
      "source": [
        "# find the cumulative probability and subtract it from 1 to calculate the probability that a student will score more than 1300\n",
        "prob_between = norm.cdf(1300, mu, sigma)- norm.cdf(750, mu, sigma)\n",
        "print(\n",
        "    \"The probability that an employee will sell between 750 and 1300 is\",\n",
        "    round(prob_between, 4),\n",
        ")"
      ]
    },
    {
      "cell_type": "code",
      "execution_count": null,
      "metadata": {
        "id": "S9a0Sg5eq_Ym",
        "colab": {
          "base_uri": "https://localhost:8080/",
          "height": 295
        },
        "outputId": "0c97da9e-2162-4e23-dc4d-c728fa2ca3d0"
      },
      "outputs": [
        {
          "output_type": "display_data",
          "data": {
            "text/plain": [
              "<Figure size 432x288 with 1 Axes>"
            ],
            "image/png": "[encoded data removed]"
          },
          "metadata": {
            "needs_background": "light"
          }
        }
      ],
      "source": [
        "# plot the probability distribution\n",
        "# We are plotting the distributions here to better visualize the calculations.\n",
        "# Of course you do not 'need' to create the following visualization to answer the question above.\n",
        "# You can directly use the cdf function for probability calculations.\n",
        "plt.plot(density[\"x\"], density[\"pdf\"])\n",
        "plt.axvline(x=750, c=\"r\")\n",
        "plt.axvline(x=1300, c=\"r\")\n",
        "x1 = np.linspace(750, 1300, 50)\n",
        "plt.fill_between(x1, norm.pdf(x1, mu, sigma), color=\"r\")\n",
        "plt.xlabel(\"Score\")\n",
        "plt.ylabel(\"Probability\")\n",
        "plt.title(\"Normal Distribution\")\n",
        "plt.show()"
      ]
    },
    {
      "cell_type": "markdown",
      "metadata": {
        "id": "zYYn3hRXPtq6"
      },
      "source": [
        "![image.png](data:image/png;base64,iVBORw0KGgoAAAANSUhEUgAABhwAAAARCAMAAAAR+PY7AAAAAXNSR0IArs4c6QAAAARnQU1BAACxjwv8YQUAAAASUExURQAAAOt8MOx9MO1+Mu59Me19MafuwrkAAAAFdFJOUwBAYIC/cfWj+gAAAAlwSFlzAAAXEQAAFxEByibzPwAAAF5JREFUeF7t27ENgDAQBMG3Df23jGS9IbiYbKaJjbbWDQDbqkMcAGjiAEAQBwCCOAAQvjjMCwC22WkAAAAAAAAAgJ+MBQDb6DT4HAB4meAACOIAQBAHAII4ABA6DlUPZaFaVMzkEVsAAAAASUVORK5CYII=)"
      ]
    },
    {
      "cell_type": "markdown",
      "metadata": {
        "id": "en-mET35w9NU"
      },
      "source": [
        "# <a name='link15'>Z Score </a>"
      ]
    },
    {
      "cell_type": "markdown",
      "source": [
        "### Assuming the company have two groups selling  different products A and B. if they want to award a group for perfomance.\n",
        "\n",
        "\n",
        " ### Group A: mu=1000, sigma=200,  X=1350 [max quantity sold by group A]\n",
        "\n",
        "### Group B: mu=20, sigma=5, X=30 [max quantity sold by group B]\n",
        "\n",
        "### Which group should be awarded?"
      ],
      "metadata": {
        "id": "JAQL9R7Ze-TW"
      }
    },
    {
      "cell_type": "code",
      "execution_count": null,
      "metadata": {
        "id": "V_DLHEzplkNp",
        "outputId": "4d3ef0da-2503-49d7-ef9e-4643aed9b4bc",
        "colab": {
          "base_uri": "https://localhost:8080/",
          "height": 295
        }
      },
      "outputs": [
        {
          "output_type": "display_data",
          "data": {
            "text/plain": [
              "<Figure size 864x288 with 2 Axes>"
            ],
            "image/png": "[encoded data removed]"
          },
          "metadata": {
            "needs_background": "light"
          }
        }
      ],
      "source": [
        "# plot the two distribution for Group A and Group B\n",
        "from scipy.stats import norm\n",
        "\n",
        "# Group A: [mu=1000,sigma=200, X=1350 (max  Quantity sold)]\n",
        "fig, (ax1, ax2) = plt.subplots(1,2, figsize = (12,4))\n",
        "x = np.linspace(400, 1600, 1000)\n",
        "ax1.plot(x, norm.pdf(x, loc = 1000, scale = 200), color = 'b')\n",
        "ax1.set_title('Normal Distribution for Group A')\n",
        "ax1.set_xlabel('Quantity Sold')\n",
        "ax1.set_ylabel('Probability')\n",
        "ax1.axvline(1350, ymax = 0.23, linestyle = '--', color = 'green')\n",
        "\n",
        "# Group B: [mu=20,sigma=5, X=30 (max quantity sold)]\n",
        "x1 = np.linspace(1, 36, 100)\n",
        "ax2.plot(x1, norm.pdf(x1, loc = 20, scale = 5), color = 'r')\n",
        "ax2.set_title('Normal Distribution for Group B')\n",
        "ax2.set_xlabel('Quantity Sold')\n",
        "ax2.set_ylabel('Probability')\n",
        "ax2.axvline(30, ymax = 0.18, linestyle = '--', color = 'green')\n",
        "plt.show()"
      ]
    },
    {
      "cell_type": "markdown",
      "metadata": {
        "id": "W0dwAyurlkNq"
      },
      "source": [
        "In the above plot, the blue curve represents the distribution for Group A and the red curve represents the distribution for Group B. The highest quantity sold are dotted lines in the respective distributions. However, it is difficult for us to compare the raw highest quantilty in the above plot. Thus, we need to standardize the two scores and compare their Z-scores."
      ]
    },
    {
      "cell_type": "code",
      "execution_count": null,
      "metadata": {
        "id": "hLuocuWDlkNq",
        "colab": {
          "base_uri": "https://localhost:8080/"
        },
        "outputId": "c1866ef7-446f-4708-8a59-7584e5de0b3b"
      },
      "outputs": [
        {
          "output_type": "stream",
          "name": "stdout",
          "text": [
            "The Z-score of max quantity for Group A 1.75\n",
            "The Z-score for max quantity for Group B 2.0\n"
          ]
        }
      ],
      "source": [
        "# find the Z-score of max quantity sold in Group A\n",
        "max_qty_A = (1350 - 1000) / 200\n",
        "print('The Z-score of max quantity for Group A', max_qty_A)\n",
        "\n",
        "# find the Z-score for max quantity sold in Group B\n",
        "max_qty_B = (30 - 20) / 5\n",
        "print('The Z-score for max quantity for Group B', max_qty_B)"
      ]
    },
    {
      "cell_type": "markdown",
      "metadata": {
        "id": "toFev9vwlkNq"
      },
      "source": [
        "Let's plot the standard normal distribution and visualize the above standardized scores."
      ]
    },
    {
      "cell_type": "code",
      "execution_count": null,
      "metadata": {
        "id": "xXDwTx-mlkNq",
        "colab": {
          "base_uri": "https://localhost:8080/",
          "height": 295
        },
        "outputId": "d4a377d6-72a7-4ad3-c227-5ea57aaa5d46"
      },
      "outputs": [
        {
          "output_type": "display_data",
          "data": {
            "text/plain": [
              "<Figure size 432x288 with 1 Axes>"
            ],
            "image/png": "[encoded data removed]"
          },
          "metadata": {
            "needs_background": "light"
          }
        }
      ],
      "source": [
        "# plot the standard normal distribution\n",
        "# and visualize the standardized scores\n",
        "# We are plotting the distributions here to better visualize the calculations.\n",
        "fig, ax = plt.subplots()\n",
        "x = np.linspace(-4,4,50)\n",
        "ax.plot(x, norm.pdf(x, loc = 0, scale = 1), color = 'b')\n",
        "ax.set_title('Standard Normal Distribution')\n",
        "ax.set_xlabel('Z-scores')\n",
        "ax.set_ylabel('Probability')\n",
        "ax.axvline(max_qty_A, ymax = 0.25, linestyle = '--', color = 'green')\n",
        "ax.axvline(max_qty_B, ymax = 0.16, linestyle = '--', color = 'black')\n",
        "plt.show()"
      ]
    },
    {
      "cell_type": "markdown",
      "metadata": {
        "id": "r0rmy2UFPvhl"
      },
      "source": [
        "![image.png](data:image/png;base64,iVBORw0KGgoAAAANSUhEUgAABhwAAAARCAMAAAAR+PY7AAAAAXNSR0IArs4c6QAAAARnQU1BAACxjwv8YQUAAAASUExURQAAAOt8MOx9MO1+Mu59Me19MafuwrkAAAAFdFJOUwBAYIC/cfWj+gAAAAlwSFlzAAAXEQAAFxEByibzPwAAAF5JREFUeF7t27ENgDAQBMG3Df23jGS9IbiYbKaJjbbWDQDbqkMcAGjiAEAQBwCCOAAQvjjMCwC22WkAAAAAAAAAgJ+MBQDb6DT4HAB4meAACOIAQBAHAII4ABA6DlUPZaFaVMzkEVsAAAAASUVORK5CYII=)"
      ]
    },
    {
      "cell_type": "markdown",
      "metadata": {
        "id": "FGV0ciNqdclc"
      },
      "source": [
        "# <a name='link15'>Chi Square Test</a>"
      ]
    },
    {
      "cell_type": "markdown",
      "source": [
        "### In this data analysis we want to verify if Shipment mode depends on the Category of Item Purchase"
      ],
      "metadata": {
        "id": "Wu0twrB-sshU"
      }
    },
    {
      "cell_type": "code",
      "source": [
        "df=pd.read_csv(\"Superstore.csv\",encoding_errors= 'replace')\n",
        "df.head(3)"
      ],
      "metadata": {
        "colab": {
          "base_uri": "https://localhost:8080/",
          "height": 462
        },
        "id": "HMNxP_1IrFEU",
        "outputId": "2430e4dc-636a-4f0a-f29e-4fa4ce8ee4b2"
      },
      "execution_count": null,
      "outputs": [
        {
          "output_type": "execute_result",
          "data": {
            "text/plain": [
              "   Row ID        Order ID Order Date   Ship Date     Ship Mode Customer ID  \\\n",
              "0       1  CA-2020-152156  11/8/2020  11/11/2020  Second Class    CG-12520   \n",
              "1       2  CA-2020-152156  11/8/2020  11/11/2020  Second Class    CG-12520   \n",
              "2       3  CA-2020-138688  6/12/2020   6/16/2020  Second Class    DV-13045   \n",
              "\n",
              "     Customer Name    Segment Country/Region         City  ... Postal Code  \\\n",
              "0      Claire Gute   Consumer  United States    Henderson  ...     42420.0   \n",
              "1      Claire Gute   Consumer  United States    Henderson  ...     42420.0   \n",
              "2  Darrin Van Huff  Corporate  United States  Los Angeles  ...     90036.0   \n",
              "\n",
              "   Region       Product ID         Category Sub-Category  \\\n",
              "0   South  FUR-BO-10001798        Furniture    Bookcases   \n",
              "1   South  FUR-CH-10000454        Furniture       Chairs   \n",
              "2    West  OFF-LA-10000240  Office Supplies       Labels   \n",
              "\n",
              "                                        Product Name   Sales  Quantity  \\\n",
              "0                  Bush Somerset Collection Bookcase  261.96         2   \n",
              "1  Hon Deluxe Fabric Upholstered Stacking Chairs,...  731.94         3   \n",
              "2  Self-Adhesive Address Labels for Typewriters b...   14.62         2   \n",
              "\n",
              "   Discount    Profit  \n",
              "0       0.0   41.9136  \n",
              "1       0.0  219.5820  \n",
              "2       0.0    6.8714  \n",
              "\n",
              "[3 rows x 21 columns]"
            ],
            "text/html": [
              "\n",
              "  <div id=\"df-7aa74884-83f9-4621-a203-288eba795353\">\n",
              "    <div class=\"colab-df-container\">\n",
              "      <div>\n",
              "<style scoped>\n",
              "    .dataframe tbody tr th:only-of-type {\n",
              "        vertical-align: middle;\n",
              "    }\n",
              "\n",
              "    .dataframe tbody tr th {\n",
              "        vertical-align: top;\n",
              "    }\n",
              "\n",
              "    .dataframe thead th {\n",
              "        text-align: right;\n",
              "    }\n",
              "</style>\n",
              "<table border=\"1\" class=\"dataframe\">\n",
              "  <thead>\n",
              "    <tr style=\"text-align: right;\">\n",
              "      <th></th>\n",
              "      <th>Row ID</th>\n",
              "      <th>Order ID</th>\n",
              "      <th>Order Date</th>\n",
              "      <th>Ship Date</th>\n",
              "      <th>Ship Mode</th>\n",
              "      <th>Customer ID</th>\n",
              "      <th>Customer Name</th>\n",
              "      <th>Segment</th>\n",
              "      <th>Country/Region</th>\n",
              "      <th>City</th>\n",
              "      <th>...</th>\n",
              "      <th>Postal Code</th>\n",
              "      <th>Region</th>\n",
              "      <th>Product ID</th>\n",
              "      <th>Category</th>\n",
              "      <th>Sub-Category</th>\n",
              "      <th>Product Name</th>\n",
              "      <th>Sales</th>\n",
              "      <th>Quantity</th>\n",
              "      <th>Discount</th>\n",
              "      <th>Profit</th>\n",
              "    </tr>\n",
              "  </thead>\n",
              "  <tbody>\n",
              "    <tr>\n",
              "      <th>0</th>\n",
              "      <td>1</td>\n",
              "      <td>CA-2020-152156</td>\n",
              "      <td>11/8/2020</td>\n",
              "      <td>11/11/2020</td>\n",
              "      <td>Second Class</td>\n",
              "      <td>CG-12520</td>\n",
              "      <td>Claire Gute</td>\n",
              "      <td>Consumer</td>\n",
              "      <td>United States</td>\n",
              "      <td>Henderson</td>\n",
              "      <td>...</td>\n",
              "      <td>42420.0</td>\n",
              "      <td>South</td>\n",
              "      <td>FUR-BO-10001798</td>\n",
              "      <td>Furniture</td>\n",
              "      <td>Bookcases</td>\n",
              "      <td>Bush Somerset Collection Bookcase</td>\n",
              "      <td>261.96</td>\n",
              "      <td>2</td>\n",
              "      <td>0.0</td>\n",
              "      <td>41.9136</td>\n",
              "    </tr>\n",
              "    <tr>\n",
              "      <th>1</th>\n",
              "      <td>2</td>\n",
              "      <td>CA-2020-152156</td>\n",
              "      <td>11/8/2020</td>\n",
              "      <td>11/11/2020</td>\n",
              "      <td>Second Class</td>\n",
              "      <td>CG-12520</td>\n",
              "      <td>Claire Gute</td>\n",
              "      <td>Consumer</td>\n",
              "      <td>United States</td>\n",
              "      <td>Henderson</td>\n",
              "      <td>...</td>\n",
              "      <td>42420.0</td>\n",
              "      <td>South</td>\n",
              "      <td>FUR-CH-10000454</td>\n",
              "      <td>Furniture</td>\n",
              "      <td>Chairs</td>\n",
              "      <td>Hon Deluxe Fabric Upholstered Stacking Chairs,...</td>\n",
              "      <td>731.94</td>\n",
              "      <td>3</td>\n",
              "      <td>0.0</td>\n",
              "      <td>219.5820</td>\n",
              "    </tr>\n",
              "    <tr>\n",
              "      <th>2</th>\n",
              "      <td>3</td>\n",
              "      <td>CA-2020-138688</td>\n",
              "      <td>6/12/2020</td>\n",
              "      <td>6/16/2020</td>\n",
              "      <td>Second Class</td>\n",
              "      <td>DV-13045</td>\n",
              "      <td>Darrin Van Huff</td>\n",
              "      <td>Corporate</td>\n",
              "      <td>United States</td>\n",
              "      <td>Los Angeles</td>\n",
              "      <td>...</td>\n",
              "      <td>90036.0</td>\n",
              "      <td>West</td>\n",
              "      <td>OFF-LA-10000240</td>\n",
              "      <td>Office Supplies</td>\n",
              "      <td>Labels</td>\n",
              "      <td>Self-Adhesive Address Labels for Typewriters b...</td>\n",
              "      <td>14.62</td>\n",
              "      <td>2</td>\n",
              "      <td>0.0</td>\n",
              "      <td>6.8714</td>\n",
              "    </tr>\n",
              "  </tbody>\n",
              "</table>\n",
              "<p>3 rows × 21 columns</p>\n",
              "</div>\n",
              "      <button class=\"colab-df-convert\" onclick=\"convertToInteractive('df-7aa74884-83f9-4621-a203-288eba795353')\"\n",
              "              title=\"Convert this dataframe to an interactive table.\"\n",
              "              style=\"display:none;\">\n",
              "        \n",
              "  <svg xmlns=\"http://www.w3.org/2000/svg\" height=\"24px\"viewBox=\"0 0 24 24\"\n",
              "       width=\"24px\">\n",
              "    <path d=\"M0 0h24v24H0V0z\" fill=\"none\"/>\n",
              "    <path d=\"M18.56 5.44l.94 2.06.94-2.06 2.06-.94-2.06-.94-.94-2.06-.94 2.06-2.06.94zm-11 1L8.5 8.5l.94-2.06 2.06-.94-2.06-.94L8.5 2.5l-.94 2.06-2.06.94zm10 10l.94 2.06.94-2.06 2.06-.94-2.06-.94-.94-2.06-.94 2.06-2.06.94z\"/><path d=\"M17.41 7.96l-1.37-1.37c-.4-.4-.92-.59-1.43-.59-.52 0-1.04.2-1.43.59L10.3 9.45l-7.72 7.72c-.78.78-.78 2.05 0 2.83L4 21.41c.39.39.9.59 1.41.59.51 0 1.02-.2 1.41-.59l7.78-7.78 2.81-2.81c.8-.78.8-2.07 0-2.86zM5.41 20L4 18.59l7.72-7.72 1.47 1.35L5.41 20z\"/>\n",
              "  </svg>\n",
              "      </button>\n",
              "      \n",
              "  <style>\n",
              "    .colab-df-container {\n",
              "      display:flex;\n",
              "      flex-wrap:wrap;\n",
              "      gap: 12px;\n",
              "    }\n",
              "\n",
              "    .colab-df-convert {\n",
              "      background-color: #E8F0FE;\n",
              "      border: none;\n",
              "      border-radius: 50%;\n",
              "      cursor: pointer;\n",
              "      display: none;\n",
              "      fill: #1967D2;\n",
              "      height: 32px;\n",
              "      padding: 0 0 0 0;\n",
              "      width: 32px;\n",
              "    }\n",
              "\n",
              "    .colab-df-convert:hover {\n",
              "      background-color: #E2EBFA;\n",
              "      box-shadow: 0px 1px 2px rgba(60, 64, 67, 0.3), 0px 1px 3px 1px rgba(60, 64, 67, 0.15);\n",
              "      fill: #174EA6;\n",
              "    }\n",
              "\n",
              "    [theme=dark] .colab-df-convert {\n",
              "      background-color: #3B4455;\n",
              "      fill: #D2E3FC;\n",
              "    }\n",
              "\n",
              "    [theme=dark] .colab-df-convert:hover {\n",
              "      background-color: #434B5C;\n",
              "      box-shadow: 0px 1px 3px 1px rgba(0, 0, 0, 0.15);\n",
              "      filter: drop-shadow(0px 1px 2px rgba(0, 0, 0, 0.3));\n",
              "      fill: #FFFFFF;\n",
              "    }\n",
              "  </style>\n",
              "\n",
              "      <script>\n",
              "        const buttonEl =\n",
              "          document.querySelector('#df-7aa74884-83f9-4621-a203-288eba795353 button.colab-df-convert');\n",
              "        buttonEl.style.display =\n",
              "          google.colab.kernel.accessAllowed ? 'block' : 'none';\n",
              "\n",
              "        async function convertToInteractive(key) {\n",
              "          const element = document.querySelector('#df-7aa74884-83f9-4621-a203-288eba795353');\n",
              "          const dataTable =\n",
              "            await google.colab.kernel.invokeFunction('convertToInteractive',\n",
              "                                                     [key], {});\n",
              "          if (!dataTable) return;\n",
              "\n",
              "          const docLinkHtml = 'Like what you see? Visit the ' +\n",
              "            '<a target=\"_blank\" href=https://colab.research.google.com/notebooks/data_table.ipynb>data table notebook</a>'\n",
              "            + ' to learn more about interactive tables.';\n",
              "          element.innerHTML = '';\n",
              "          dataTable['output_type'] = 'display_data';\n",
              "          await google.colab.output.renderOutput(dataTable, element);\n",
              "          const docLink = document.createElement('div');\n",
              "          docLink.innerHTML = docLinkHtml;\n",
              "          element.appendChild(docLink);\n",
              "        }\n",
              "      </script>\n",
              "    </div>\n",
              "  </div>\n",
              "  "
            ]
          },
          "metadata": {},
          "execution_count": 95
        }
      ]
    },
    {
      "cell_type": "markdown",
      "metadata": {
        "id": "Wb0Ball-ZBfy"
      },
      "source": [
        "### Data Visualization"
      ]
    },
    {
      "cell_type": "code",
      "execution_count": null,
      "metadata": {
        "colab": {
          "base_uri": "https://localhost:8080/",
          "height": 457
        },
        "id": "mS4QpG5IZFaH",
        "outputId": "f5f12be8-523d-4f38-e863-6f43cf894e2b"
      },
      "outputs": [
        {
          "output_type": "execute_result",
          "data": {
            "text/plain": [
              "                                Order ID\n",
              "Ship Mode      Category                 \n",
              "First Class    Furniture             327\n",
              "               Office Supplies       910\n",
              "               Technology            301\n",
              "Same Day       Furniture             119\n",
              "               Office Supplies       326\n",
              "               Technology             98\n",
              "Second Class   Furniture             427\n",
              "               Office Supplies      1152\n",
              "               Technology            366\n",
              "Standard Class Furniture            1248\n",
              "               Office Supplies      3638\n",
              "               Technology           1082"
            ],
            "text/html": [
              "\n",
              "  <div id=\"df-34367f4a-d75c-44f2-9f0f-484122a05aab\">\n",
              "    <div class=\"colab-df-container\">\n",
              "      <div>\n",
              "<style scoped>\n",
              "    .dataframe tbody tr th:only-of-type {\n",
              "        vertical-align: middle;\n",
              "    }\n",
              "\n",
              "    .dataframe tbody tr th {\n",
              "        vertical-align: top;\n",
              "    }\n",
              "\n",
              "    .dataframe thead th {\n",
              "        text-align: right;\n",
              "    }\n",
              "</style>\n",
              "<table border=\"1\" class=\"dataframe\">\n",
              "  <thead>\n",
              "    <tr style=\"text-align: right;\">\n",
              "      <th></th>\n",
              "      <th></th>\n",
              "      <th>Order ID</th>\n",
              "    </tr>\n",
              "    <tr>\n",
              "      <th>Ship Mode</th>\n",
              "      <th>Category</th>\n",
              "      <th></th>\n",
              "    </tr>\n",
              "  </thead>\n",
              "  <tbody>\n",
              "    <tr>\n",
              "      <th rowspan=\"3\" valign=\"top\">First Class</th>\n",
              "      <th>Furniture</th>\n",
              "      <td>327</td>\n",
              "    </tr>\n",
              "    <tr>\n",
              "      <th>Office Supplies</th>\n",
              "      <td>910</td>\n",
              "    </tr>\n",
              "    <tr>\n",
              "      <th>Technology</th>\n",
              "      <td>301</td>\n",
              "    </tr>\n",
              "    <tr>\n",
              "      <th rowspan=\"3\" valign=\"top\">Same Day</th>\n",
              "      <th>Furniture</th>\n",
              "      <td>119</td>\n",
              "    </tr>\n",
              "    <tr>\n",
              "      <th>Office Supplies</th>\n",
              "      <td>326</td>\n",
              "    </tr>\n",
              "    <tr>\n",
              "      <th>Technology</th>\n",
              "      <td>98</td>\n",
              "    </tr>\n",
              "    <tr>\n",
              "      <th rowspan=\"3\" valign=\"top\">Second Class</th>\n",
              "      <th>Furniture</th>\n",
              "      <td>427</td>\n",
              "    </tr>\n",
              "    <tr>\n",
              "      <th>Office Supplies</th>\n",
              "      <td>1152</td>\n",
              "    </tr>\n",
              "    <tr>\n",
              "      <th>Technology</th>\n",
              "      <td>366</td>\n",
              "    </tr>\n",
              "    <tr>\n",
              "      <th rowspan=\"3\" valign=\"top\">Standard Class</th>\n",
              "      <th>Furniture</th>\n",
              "      <td>1248</td>\n",
              "    </tr>\n",
              "    <tr>\n",
              "      <th>Office Supplies</th>\n",
              "      <td>3638</td>\n",
              "    </tr>\n",
              "    <tr>\n",
              "      <th>Technology</th>\n",
              "      <td>1082</td>\n",
              "    </tr>\n",
              "  </tbody>\n",
              "</table>\n",
              "</div>\n",
              "      <button class=\"colab-df-convert\" onclick=\"convertToInteractive('df-34367f4a-d75c-44f2-9f0f-484122a05aab')\"\n",
              "              title=\"Convert this dataframe to an interactive table.\"\n",
              "              style=\"display:none;\">\n",
              "        \n",
              "  <svg xmlns=\"http://www.w3.org/2000/svg\" height=\"24px\"viewBox=\"0 0 24 24\"\n",
              "       width=\"24px\">\n",
              "    <path d=\"M0 0h24v24H0V0z\" fill=\"none\"/>\n",
              "    <path d=\"M18.56 5.44l.94 2.06.94-2.06 2.06-.94-2.06-.94-.94-2.06-.94 2.06-2.06.94zm-11 1L8.5 8.5l.94-2.06 2.06-.94-2.06-.94L8.5 2.5l-.94 2.06-2.06.94zm10 10l.94 2.06.94-2.06 2.06-.94-2.06-.94-.94-2.06-.94 2.06-2.06.94z\"/><path d=\"M17.41 7.96l-1.37-1.37c-.4-.4-.92-.59-1.43-.59-.52 0-1.04.2-1.43.59L10.3 9.45l-7.72 7.72c-.78.78-.78 2.05 0 2.83L4 21.41c.39.39.9.59 1.41.59.51 0 1.02-.2 1.41-.59l7.78-7.78 2.81-2.81c.8-.78.8-2.07 0-2.86zM5.41 20L4 18.59l7.72-7.72 1.47 1.35L5.41 20z\"/>\n",
              "  </svg>\n",
              "      </button>\n",
              "      \n",
              "  <style>\n",
              "    .colab-df-container {\n",
              "      display:flex;\n",
              "      flex-wrap:wrap;\n",
              "      gap: 12px;\n",
              "    }\n",
              "\n",
              "    .colab-df-convert {\n",
              "      background-color: #E8F0FE;\n",
              "      border: none;\n",
              "      border-radius: 50%;\n",
              "      cursor: pointer;\n",
              "      display: none;\n",
              "      fill: #1967D2;\n",
              "      height: 32px;\n",
              "      padding: 0 0 0 0;\n",
              "      width: 32px;\n",
              "    }\n",
              "\n",
              "    .colab-df-convert:hover {\n",
              "      background-color: #E2EBFA;\n",
              "      box-shadow: 0px 1px 2px rgba(60, 64, 67, 0.3), 0px 1px 3px 1px rgba(60, 64, 67, 0.15);\n",
              "      fill: #174EA6;\n",
              "    }\n",
              "\n",
              "    [theme=dark] .colab-df-convert {\n",
              "      background-color: #3B4455;\n",
              "      fill: #D2E3FC;\n",
              "    }\n",
              "\n",
              "    [theme=dark] .colab-df-convert:hover {\n",
              "      background-color: #434B5C;\n",
              "      box-shadow: 0px 1px 3px 1px rgba(0, 0, 0, 0.15);\n",
              "      filter: drop-shadow(0px 1px 2px rgba(0, 0, 0, 0.3));\n",
              "      fill: #FFFFFF;\n",
              "    }\n",
              "  </style>\n",
              "\n",
              "      <script>\n",
              "        const buttonEl =\n",
              "          document.querySelector('#df-34367f4a-d75c-44f2-9f0f-484122a05aab button.colab-df-convert');\n",
              "        buttonEl.style.display =\n",
              "          google.colab.kernel.accessAllowed ? 'block' : 'none';\n",
              "\n",
              "        async function convertToInteractive(key) {\n",
              "          const element = document.querySelector('#df-34367f4a-d75c-44f2-9f0f-484122a05aab');\n",
              "          const dataTable =\n",
              "            await google.colab.kernel.invokeFunction('convertToInteractive',\n",
              "                                                     [key], {});\n",
              "          if (!dataTable) return;\n",
              "\n",
              "          const docLinkHtml = 'Like what you see? Visit the ' +\n",
              "            '<a target=\"_blank\" href=https://colab.research.google.com/notebooks/data_table.ipynb>data table notebook</a>'\n",
              "            + ' to learn more about interactive tables.';\n",
              "          element.innerHTML = '';\n",
              "          dataTable['output_type'] = 'display_data';\n",
              "          await google.colab.output.renderOutput(dataTable, element);\n",
              "          const docLink = document.createElement('div');\n",
              "          docLink.innerHTML = docLinkHtml;\n",
              "          element.appendChild(docLink);\n",
              "        }\n",
              "      </script>\n",
              "    </div>\n",
              "  </div>\n",
              "  "
            ]
          },
          "metadata": {},
          "execution_count": 94
        }
      ],
      "source": [
        "# creating a pivot table to extract the count of Shipment Mode vs Category of Item purchase\n",
        "pivot5 = df.pivot_table(index=['Ship Mode','Category'], values=['Order ID'], aggfunc='count')\n",
        "pivot5"
      ]
    },
    {
      "cell_type": "markdown",
      "metadata": {
        "id": "7shmOZyHo8CY"
      },
      "source": [
        "### Hypothesis Testing"
      ]
    },
    {
      "cell_type": "markdown",
      "metadata": {
        "id": "WZAree2OpFRQ"
      },
      "source": [
        "#### Step 1: Define null and alternative hypotheses"
      ]
    },
    {
      "cell_type": "markdown",
      "metadata": {
        "id": "a24c54b6"
      },
      "source": [
        ":$H_0:$ Shipment Mode is independent of the Catergory of Item Purchased. \n",
        "\n",
        "$H_a:$ Shipment Mode depends on Category of Item Purchased. "
      ]
    },
    {
      "cell_type": "markdown",
      "metadata": {
        "id": "JIG5W78HpLre"
      },
      "source": [
        "### Step 2: Select the appropriate Test"
      ]
    },
    {
      "cell_type": "markdown",
      "metadata": {
        "id": "WDgVaYA9pRKO"
      },
      "source": [
        "#### Step 3: Decide the significance level"
      ]
    },
    {
      "cell_type": "markdown",
      "metadata": {
        "id": "yWCMTqSzpgC7"
      },
      "source": [
        "As given in the problem statement, we select $\\alpha = 0.05$."
      ]
    },
    {
      "cell_type": "markdown",
      "metadata": {
        "id": "VAaV60OcppdK"
      },
      "source": [
        "### Step 4: Data Preparation"
      ]
    },
    {
      "cell_type": "code",
      "execution_count": null,
      "metadata": {
        "id": "NjkDhl2mq9z8",
        "outputId": "f035634e-e78c-4272-b219-95cc31d751f6",
        "scrolled": true,
        "colab": {
          "base_uri": "https://localhost:8080/",
          "height": 206
        }
      },
      "outputs": [
        {
          "output_type": "execute_result",
          "data": {
            "text/plain": [
              "Category        Furniture  Office Supplies  Technology\n",
              "Ship Mode                                             \n",
              "First Class           327              910         301\n",
              "Same Day              119              326          98\n",
              "Second Class          427             1152         366\n",
              "Standard Class       1248             3638        1082"
            ],
            "text/html": [
              "\n",
              "  <div id=\"df-d01bdad7-f9aa-483b-aee9-927efff64a7b\">\n",
              "    <div class=\"colab-df-container\">\n",
              "      <div>\n",
              "<style scoped>\n",
              "    .dataframe tbody tr th:only-of-type {\n",
              "        vertical-align: middle;\n",
              "    }\n",
              "\n",
              "    .dataframe tbody tr th {\n",
              "        vertical-align: top;\n",
              "    }\n",
              "\n",
              "    .dataframe thead th {\n",
              "        text-align: right;\n",
              "    }\n",
              "</style>\n",
              "<table border=\"1\" class=\"dataframe\">\n",
              "  <thead>\n",
              "    <tr style=\"text-align: right;\">\n",
              "      <th>Category</th>\n",
              "      <th>Furniture</th>\n",
              "      <th>Office Supplies</th>\n",
              "      <th>Technology</th>\n",
              "    </tr>\n",
              "    <tr>\n",
              "      <th>Ship Mode</th>\n",
              "      <th></th>\n",
              "      <th></th>\n",
              "      <th></th>\n",
              "    </tr>\n",
              "  </thead>\n",
              "  <tbody>\n",
              "    <tr>\n",
              "      <th>First Class</th>\n",
              "      <td>327</td>\n",
              "      <td>910</td>\n",
              "      <td>301</td>\n",
              "    </tr>\n",
              "    <tr>\n",
              "      <th>Same Day</th>\n",
              "      <td>119</td>\n",
              "      <td>326</td>\n",
              "      <td>98</td>\n",
              "    </tr>\n",
              "    <tr>\n",
              "      <th>Second Class</th>\n",
              "      <td>427</td>\n",
              "      <td>1152</td>\n",
              "      <td>366</td>\n",
              "    </tr>\n",
              "    <tr>\n",
              "      <th>Standard Class</th>\n",
              "      <td>1248</td>\n",
              "      <td>3638</td>\n",
              "      <td>1082</td>\n",
              "    </tr>\n",
              "  </tbody>\n",
              "</table>\n",
              "</div>\n",
              "      <button class=\"colab-df-convert\" onclick=\"convertToInteractive('df-d01bdad7-f9aa-483b-aee9-927efff64a7b')\"\n",
              "              title=\"Convert this dataframe to an interactive table.\"\n",
              "              style=\"display:none;\">\n",
              "        \n",
              "  <svg xmlns=\"http://www.w3.org/2000/svg\" height=\"24px\"viewBox=\"0 0 24 24\"\n",
              "       width=\"24px\">\n",
              "    <path d=\"M0 0h24v24H0V0z\" fill=\"none\"/>\n",
              "    <path d=\"M18.56 5.44l.94 2.06.94-2.06 2.06-.94-2.06-.94-.94-2.06-.94 2.06-2.06.94zm-11 1L8.5 8.5l.94-2.06 2.06-.94-2.06-.94L8.5 2.5l-.94 2.06-2.06.94zm10 10l.94 2.06.94-2.06 2.06-.94-2.06-.94-.94-2.06-.94 2.06-2.06.94z\"/><path d=\"M17.41 7.96l-1.37-1.37c-.4-.4-.92-.59-1.43-.59-.52 0-1.04.2-1.43.59L10.3 9.45l-7.72 7.72c-.78.78-.78 2.05 0 2.83L4 21.41c.39.39.9.59 1.41.59.51 0 1.02-.2 1.41-.59l7.78-7.78 2.81-2.81c.8-.78.8-2.07 0-2.86zM5.41 20L4 18.59l7.72-7.72 1.47 1.35L5.41 20z\"/>\n",
              "  </svg>\n",
              "      </button>\n",
              "      \n",
              "  <style>\n",
              "    .colab-df-container {\n",
              "      display:flex;\n",
              "      flex-wrap:wrap;\n",
              "      gap: 12px;\n",
              "    }\n",
              "\n",
              "    .colab-df-convert {\n",
              "      background-color: #E8F0FE;\n",
              "      border: none;\n",
              "      border-radius: 50%;\n",
              "      cursor: pointer;\n",
              "      display: none;\n",
              "      fill: #1967D2;\n",
              "      height: 32px;\n",
              "      padding: 0 0 0 0;\n",
              "      width: 32px;\n",
              "    }\n",
              "\n",
              "    .colab-df-convert:hover {\n",
              "      background-color: #E2EBFA;\n",
              "      box-shadow: 0px 1px 2px rgba(60, 64, 67, 0.3), 0px 1px 3px 1px rgba(60, 64, 67, 0.15);\n",
              "      fill: #174EA6;\n",
              "    }\n",
              "\n",
              "    [theme=dark] .colab-df-convert {\n",
              "      background-color: #3B4455;\n",
              "      fill: #D2E3FC;\n",
              "    }\n",
              "\n",
              "    [theme=dark] .colab-df-convert:hover {\n",
              "      background-color: #434B5C;\n",
              "      box-shadow: 0px 1px 3px 1px rgba(0, 0, 0, 0.15);\n",
              "      filter: drop-shadow(0px 1px 2px rgba(0, 0, 0, 0.3));\n",
              "      fill: #FFFFFF;\n",
              "    }\n",
              "  </style>\n",
              "\n",
              "      <script>\n",
              "        const buttonEl =\n",
              "          document.querySelector('#df-d01bdad7-f9aa-483b-aee9-927efff64a7b button.colab-df-convert');\n",
              "        buttonEl.style.display =\n",
              "          google.colab.kernel.accessAllowed ? 'block' : 'none';\n",
              "\n",
              "        async function convertToInteractive(key) {\n",
              "          const element = document.querySelector('#df-d01bdad7-f9aa-483b-aee9-927efff64a7b');\n",
              "          const dataTable =\n",
              "            await google.colab.kernel.invokeFunction('convertToInteractive',\n",
              "                                                     [key], {});\n",
              "          if (!dataTable) return;\n",
              "\n",
              "          const docLinkHtml = 'Like what you see? Visit the ' +\n",
              "            '<a target=\"_blank\" href=https://colab.research.google.com/notebooks/data_table.ipynb>data table notebook</a>'\n",
              "            + ' to learn more about interactive tables.';\n",
              "          element.innerHTML = '';\n",
              "          dataTable['output_type'] = 'display_data';\n",
              "          await google.colab.output.renderOutput(dataTable, element);\n",
              "          const docLink = document.createElement('div');\n",
              "          docLink.innerHTML = docLinkHtml;\n",
              "          element.appendChild(docLink);\n",
              "        }\n",
              "      </script>\n",
              "    </div>\n",
              "  </div>\n",
              "  "
            ]
          },
          "metadata": {},
          "execution_count": 96
        }
      ],
      "source": [
        "# import the chi2_contigency library from stats\n",
        "\n",
        "from   scipy.stats import chi2_contingency \n",
        "\n",
        "# Create the contigency table\n",
        "cont_tab=pd.crosstab(df[\"Ship Mode\"],df[\"Category\"])\n",
        "cont_tab"
      ]
    },
    {
      "cell_type": "markdown",
      "metadata": {
        "id": "K_XOg2ejpwU9"
      },
      "source": [
        "### Step 5: Calculate the p-value"
      ]
    },
    {
      "cell_type": "code",
      "execution_count": null,
      "metadata": {
        "colab": {
          "base_uri": "https://localhost:8080/"
        },
        "id": "8faca594",
        "outputId": "745bd27a-5926-4b27-e44c-3ad27f006d5e"
      },
      "outputs": [
        {
          "output_type": "stream",
          "name": "stdout",
          "text": [
            "The p-value is 0.7334430848247819\n",
            "Test_Statistics: 3.5789107440384584\n",
            "Degree of Freedom: 6\n"
          ]
        }
      ],
      "source": [
        "#find the p_value using Chi2_contifency function\n",
        "chi2, p_value, dof, exp_freq = chi2_contingency(cont_tab)\n",
        "# print the p-value\n",
        "print('The p-value is',p_value)\n",
        "print(\"Test_Statistics:\", chi2)\n",
        "print(\"Degree of Freedom:\", dof)"
      ]
    },
    {
      "cell_type": "markdown",
      "metadata": {
        "id": "MEv9prMmp3Sd"
      },
      "source": [
        "### Step 6: Compare the p-value with $\\alpha$"
      ]
    },
    {
      "cell_type": "code",
      "execution_count": null,
      "metadata": {
        "colab": {
          "base_uri": "https://localhost:8080/"
        },
        "id": "PGSYcYYbrab2",
        "outputId": "808de485-2967-431b-c515-4307e15b7830"
      },
      "outputs": [
        {
          "output_type": "stream",
          "name": "stdout",
          "text": [
            "Since the p-value 0.7334430848247819 is greater than the level of significance, \n",
            " we do not have enough statistical evidence to reject the null hypothesis. Hence, we fail to reject the null hypothesis.\n"
          ]
        }
      ],
      "source": [
        "# print the conclusion based on p-value\n",
        "if p_value < 0.05:\n",
        "    print(f'Since the p-value {p_value} is less than the level of significance, \\n we have enough statistical evidence to reject the null hypothesis.')\n",
        "else:\n",
        "    print(f'Since the p-value {p_value} is greater than the level of significance, \\n we do not have enough statistical evidence to reject the null hypothesis. Hence, we fail to reject the null hypothesis.')"
      ]
    },
    {
      "cell_type": "markdown",
      "metadata": {
        "id": "RJ-_8i75qHI1"
      },
      "source": [
        "### Step 7: Draw Inference"
      ]
    },
    {
      "cell_type": "markdown",
      "metadata": {
        "id": "4e7242a7"
      },
      "source": [
        "Since, the p_value is greater than 0.05, we cannot reject Null Hypothesis. Hence, we have don't have enough evidence to say the Shipment Mode is independent of Category of item Purchased. "
      ]
    },
    {
      "cell_type": "markdown",
      "metadata": {
        "id": "b2NxsRuUPxPu"
      },
      "source": [
        "![image.png](data:image/png;base64,iVBORw0KGgoAAAANSUhEUgAABhwAAAARCAMAAAAR+PY7AAAAAXNSR0IArs4c6QAAAARnQU1BAACxjwv8YQUAAAASUExURQAAAOt8MOx9MO1+Mu59Me19MafuwrkAAAAFdFJOUwBAYIC/cfWj+gAAAAlwSFlzAAAXEQAAFxEByibzPwAAAF5JREFUeF7t27ENgDAQBMG3Df23jGS9IbiYbKaJjbbWDQDbqkMcAGjiAEAQBwCCOAAQvjjMCwC22WkAAAAAAAAAgJ+MBQDb6DT4HAB4meAACOIAQBAHAII4ABA6DlUPZaFaVMzkEVsAAAAASUVORK5CYII=)"
      ]
    }
  ]
}